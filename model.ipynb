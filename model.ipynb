{
 "cells": [
  {
   "cell_type": "code",
   "execution_count": 1,
   "metadata": {},
   "outputs": [],
   "source": [
    "\n",
    "import torch\n",
    "import torch.nn.functional as F"
   ]
  },
  {
   "cell_type": "code",
   "execution_count": 2,
   "metadata": {},
   "outputs": [
    {
     "name": "stdout",
     "output_type": "stream",
     "text": [
      "out.shape: torch.Size([1, 129, 800])\n",
      "hidden.shape: torch.Size([2, 1, 400])\n",
      "h_left.shape: torch.Size([1, 129, 400])\n",
      "h_right.shape: torch.Size([1, 129, 400])\n"
     ]
    }
   ],
   "source": [
    "a = torch.randn(1, 129, 88)\n",
    "input_size = a.shape[2]\n",
    "input_size = 88\n",
    "hidden_size = 400\n",
    "\n",
    "rnn = torch.nn.RNN(input_size=input_size, hidden_size=hidden_size, bidirectional=True, batch_first=True)\n",
    "out, hidden = rnn(a) # out: [1, 129, 800], hidden: [2, 1, 400]\n",
    "print(f'out.shape: {out.shape}')\n",
    "print(f'hidden.shape: {hidden.shape}')\n",
    "h_left = out[:, :, :hidden_size]\n",
    "h_right = out[:, :, hidden_size:]\n",
    "\n",
    "print(f'h_left.shape: {h_left.shape}')\n",
    "print(f'h_right.shape: {h_right.shape}')\n"
   ]
  },
  {
   "cell_type": "code",
   "execution_count": 3,
   "metadata": {},
   "outputs": [],
   "source": [
    "z_0 = torch.randn(1, 1, 100)"
   ]
  },
  {
   "cell_type": "code",
   "execution_count": 4,
   "metadata": {},
   "outputs": [
    {
     "name": "stdout",
     "output_type": "stream",
     "text": [
      "h_combined.shape: torch.Size([1, 129, 400])\n"
     ]
    }
   ],
   "source": [
    "combiner = torch.nn.Linear(100, 400)\n",
    "h_combined = combiner(z_0)\n",
    "h_combined = .5 * (F.tanh(h_combined) + h_right)\n",
    "print(f'h_combined.shape: {h_combined.shape}')"
   ]
  },
  {
   "cell_type": "code",
   "execution_count": 5,
   "metadata": {},
   "outputs": [],
   "source": [
    "def softplus(x):\n",
    "    return torch.log(1 + torch.exp(x))"
   ]
  },
  {
   "cell_type": "code",
   "execution_count": 6,
   "metadata": {},
   "outputs": [
    {
     "name": "stdout",
     "output_type": "stream",
     "text": [
      "mu.shape: torch.Size([1, 129, 100])\n",
      "sigma.shape: torch.Size([1, 129, 100])\n"
     ]
    }
   ],
   "source": [
    "mu_linear = torch.nn.Linear(400, 100)\n",
    "sigma_linear = torch.nn.Linear(400, 100)\n",
    "\n",
    "mu = mu_linear(h_combined)\n",
    "sigma = softplus(sigma_linear(h_combined))\n",
    "\n",
    "print(f'mu.shape: {mu.shape}')\n",
    "print(f'sigma.shape: {sigma.shape}')    \n"
   ]
  },
  {
   "cell_type": "code",
   "execution_count": 7,
   "metadata": {},
   "outputs": [],
   "source": [
    "z_1 = mu + sigma * torch.randn_like(mu)\n"
   ]
  },
  {
   "cell_type": "code",
   "execution_count": 8,
   "metadata": {},
   "outputs": [],
   "source": [
    "#emission function\n",
    "emission = torch.nn.Sequential(\n",
    "    torch.nn.Linear(100, 100),\n",
    "    torch.nn.ReLU(),\n",
    "    torch.nn.Linear(100, 100),\n",
    "    torch.nn.ReLU(),\n",
    "    torch.nn.Linear(100, 88),\n",
    "    torch.nn.Sigmoid()\n",
    ")\n",
    "\n",
    "#transition function\n",
    "G = torch.nn.Sequential(\n",
    "    torch.nn.Linear(100, 200), #gating unit\n",
    "    torch.nn.ReLU(),\n",
    "    torch.nn.Linear(200, 100), #proposed mean\n",
    "    torch.nn.Sigmoid()\n",
    ")\n",
    "\n",
    "H = torch.nn.Sequential(\n",
    "    torch.nn.Linear(100, 200), #proposed mean\n",
    "    torch.nn.ReLU(),\n",
    "    torch.nn.Linear(200, 100), #proposed mean\n",
    "    torch.nn.Identity(),\n",
    ")\n",
    "\n",
    "mu_gated_linear = torch.nn.Linear(100, 100) #w_{mu_p} * z_{t-1} + b_{mu_p}\n",
    "sigma_gated_linear = torch.nn.Sequential( #w_{sigma_p} * relu(h_t) + b_{sigma_p}\n",
    "    torch.nn.ReLU(),\n",
    "    torch.nn.Linear(100, 100),\n",
    "    torch.nn.Softplus(),\n",
    ")\n",
    "    \n",
    "\n",
    "\n"
   ]
  },
  {
   "cell_type": "code",
   "execution_count": 9,
   "metadata": {},
   "outputs": [
    {
     "data": {
      "text/plain": [
       "torch.Size([1, 129, 88])"
      ]
     },
     "execution_count": 9,
     "metadata": {},
     "output_type": "execute_result"
    }
   ],
   "source": [
    "emission(z_1).shape"
   ]
  },
  {
   "cell_type": "code",
   "execution_count": 10,
   "metadata": {},
   "outputs": [
    {
     "name": "stdout",
     "output_type": "stream",
     "text": [
      "out.shape: torch.Size([1, 1, 100])\n",
      "sigma_generator.shape: torch.Size([1, 1, 100])\n"
     ]
    }
   ],
   "source": [
    "#forward pass of transition function\n",
    "z_0 = torch.zeros(1, 1, 100)\n",
    "g_out = G(z_0)\n",
    "one_minus_g = 1 - g_out # 1 - g\n",
    "mu_linear_out = mu_gated_linear(z_0) #w_{mu_p} * z_{t-1} + b_{mu_p}\n",
    "elementwise_mu_out = mu_linear_out * one_minus_g\n",
    "proposed_mean_out = H(z_0)\n",
    "mu_generator = (proposed_mean_out * g_out) + elementwise_mu_out\n",
    "\n",
    "sigma_generator = sigma_gated_linear(proposed_mean_out)\n",
    "\n",
    "\n",
    "print(f'out.shape: {one_minus_g.shape}')\n",
    "print(f'sigma_generator.shape: {sigma_generator.shape}')"
   ]
  },
  {
   "cell_type": "code",
   "execution_count": 11,
   "metadata": {},
   "outputs": [],
   "source": [
    "z_1 = mu_generator + sigma_generator * torch.randn_like(mu_generator)"
   ]
  },
  {
   "cell_type": "code",
   "execution_count": 12,
   "metadata": {},
   "outputs": [],
   "source": [
    "from model import DVAE\n",
    "\n",
    "import torch\n",
    "import torch.nn.functional as F"
   ]
  },
  {
   "cell_type": "code",
   "execution_count": 13,
   "metadata": {},
   "outputs": [],
   "source": [
    "model = DVAE()"
   ]
  },
  {
   "cell_type": "code",
   "execution_count": 14,
   "metadata": {},
   "outputs": [],
   "source": [
    "x = torch.randn(3, 129, 88)"
   ]
  },
  {
   "cell_type": "code",
   "execution_count": 15,
   "metadata": {},
   "outputs": [],
   "source": [
    "x_hat, mus_p_z, sigmas_p_z, mus_generator, sigmas_generators = model(x)"
   ]
  },
  {
   "cell_type": "code",
   "execution_count": 26,
   "metadata": {},
   "outputs": [],
   "source": [
    "def kl_normal(qm, qv, pm, pv):\n",
    "    \"\"\"\n",
    "    Computes the elem-wise KL divergence between two normal distributions KL(q || p) and\n",
    "    sum over the last dimension\n",
    "\n",
    "    Args:\n",
    "        qm: tensor: (batch, dim): q mean\n",
    "        qv: tensor: (batch, dim): q variance\n",
    "        pm: tensor: (batch, dim): p mean\n",
    "        pv: tensor: (batch, dim): p variance\n",
    "\n",
    "    Return:\n",
    "        kl: tensor: (batch,): kl between each sample\n",
    "    \"\"\"\n",
    "    \n",
    "    element_wise = 0.5 * (torch.log(pv) - torch.log(qv) + qv / pv + (qm - pm).pow(2) / pv - 1)\n",
    "    print(f'element_wise.shape: {element_wise.shape}')\n",
    "    kl = element_wise.sum(-1)\n",
    "    return kl"
   ]
  },
  {
   "cell_type": "code",
   "execution_count": 27,
   "metadata": {},
   "outputs": [
    {
     "name": "stdout",
     "output_type": "stream",
     "text": [
      "x_hat.shape: torch.Size([3, 129, 88])\n",
      "mus_p_z.shape: torch.Size([3, 129, 100])\n",
      "sigmas_p_z.shape: torch.Size([3, 129, 100])\n",
      "mus_generator.shape: torch.Size([3, 129, 100])\n",
      "sigmas_generators.shape: torch.Size([3, 129, 100])\n"
     ]
    }
   ],
   "source": [
    "print(f'x_hat.shape: {x_hat.shape}')\n",
    "print(f'mus_p_z.shape: {mus_p_z.shape}')\n",
    "print(f'sigmas_p_z.shape: {sigmas_p_z.shape}')\n",
    "print(f'mus_generator.shape: {mus_generator.shape}')\n",
    "print(f'sigmas_generators.shape: {sigmas_generators.shape}')\n"
   ]
  },
  {
   "cell_type": "code",
   "execution_count": 28,
   "metadata": {},
   "outputs": [
    {
     "name": "stdout",
     "output_type": "stream",
     "text": [
      "mu_z_1.shape: torch.Size([3, 100])\n",
      "sigma_z_1.shape: torch.Size([3, 100])\n",
      "mus_generator_1.shape: torch.Size([3, 100])\n",
      "sigmas_generator_1.shape: torch.Size([3, 100])\n",
      "element_wise.shape: torch.Size([3, 100])\n",
      "single_kl: tensor([3.3891, 3.3859, 3.2899], grad_fn=<SumBackward1>)\n"
     ]
    }
   ],
   "source": [
    "mu_z_1 = mus_p_z[:, 0, :]\n",
    "sigma_z_1 = sigmas_p_z[:, 0, :]\n",
    "print(f'mu_z_1.shape: {mu_z_1.shape}')\n",
    "print(f'sigma_z_1.shape: {sigma_z_1.shape}')\n",
    "\n",
    "mus_generator_1 = mus_generator[:, 0, :]\n",
    "sigmas_generator_1 = sigmas_generators[:, 0, :]\n",
    "print(f'mus_generator_1.shape: {mus_generator_1.shape}')\n",
    "print(f'sigmas_generator_1.shape: {sigmas_generator_1.shape}')\n",
    "\n",
    "single_kl = kl_normal(mu_z_1,\n",
    "          sigma_z_1,\n",
    "          mus_generator_1,\n",
    "          sigmas_generator_1,\n",
    "          )\n",
    "\n",
    "print(f'single_kl: {single_kl}')"
   ]
  },
  {
   "cell_type": "code",
   "execution_count": 29,
   "metadata": {},
   "outputs": [],
   "source": [
    "bce = torch.nn.BCEWithLogitsLoss(reduction='none')"
   ]
  },
  {
   "cell_type": "code",
   "execution_count": 20,
   "metadata": {},
   "outputs": [],
   "source": [
    "def log_bernoulli_with_logits(x, logits):\n",
    "    \"\"\"\n",
    "    Computes the log probability of a Bernoulli given its logits\n",
    "\n",
    "    Args:\n",
    "        x: tensor: (batch, dim): Observation\n",
    "        logits: tensor: (batch, dim): Bernoulli logits\n",
    "\n",
    "    Return:\n",
    "        log_prob: tensor: (batch,): log probability of each sample\n",
    "    \"\"\"\n",
    "    log_prob = -bce(input=logits, target=x).sum(-1).sum(-1) #TODO: check if suming over t is correct\n",
    "    return log_prob"
   ]
  },
  {
   "cell_type": "code",
   "execution_count": 21,
   "metadata": {},
   "outputs": [],
   "source": [
    "recon_loss = -log_bernoulli_with_logits(x_hat, x)"
   ]
  },
  {
   "cell_type": "code",
   "execution_count": 22,
   "metadata": {},
   "outputs": [],
   "source": [
    "#KL(q, p) for t=2 to T\n",
    "\n",
    "kl_q_p_2 = kl_normal(mus_generator[:, 1:, :],\n",
    "          sigmas_generators[:, 1:, :],\n",
    "          mus_p_z[:, 1:, :],\n",
    "          sigmas_p_z[:, 1:, :])"
   ]
  },
  {
   "cell_type": "code",
   "execution_count": 23,
   "metadata": {},
   "outputs": [
    {
     "data": {
      "text/plain": [
       "torch.Size([3])"
      ]
     },
     "execution_count": 23,
     "metadata": {},
     "output_type": "execute_result"
    }
   ],
   "source": [
    "kl_q_p_2.sum(-1).shape"
   ]
  },
  {
   "cell_type": "code",
   "execution_count": 24,
   "metadata": {},
   "outputs": [
    {
     "data": {
      "text/plain": [
       "tensor([3.3891, 3.3859, 3.2899], grad_fn=<SumBackward1>)"
      ]
     },
     "execution_count": 24,
     "metadata": {},
     "output_type": "execute_result"
    }
   ],
   "source": [
    "single_kl"
   ]
  },
  {
   "cell_type": "code",
   "execution_count": 25,
   "metadata": {},
   "outputs": [],
   "source": [
    "nelbo_loss = recon_loss.mean() + kl_q_p_2.sum(-1).mean() + single_kl.mean()"
   ]
  },
  {
   "cell_type": "code",
   "execution_count": 1,
   "metadata": {},
   "outputs": [
    {
     "name": "stderr",
     "output_type": "stream",
     "text": [
      "/Users/fedra/Library/Python/3.9/lib/python/site-packages/urllib3/__init__.py:34: NotOpenSSLWarning: urllib3 v2.0 only supports OpenSSL 1.1.1+, currently the 'ssl' module is compiled with 'LibreSSL 2.8.3'. See: https://github.com/urllib3/urllib3/issues/3020\n",
      "  warnings.warn(\n"
     ]
    }
   ],
   "source": [
    "from omegaconf import OmegaConf\n",
    "import argparse\n",
    "import os\n",
    "import torch\n",
    "from omegaconf import OmegaConf\n",
    "from torch.utils.data import DataLoader\n",
    "import wandb\n",
    "\n",
    "from dataloader import MusicDataset\n",
    "from model import DVAE "
   ]
  },
  {
   "cell_type": "code",
   "execution_count": 2,
   "metadata": {},
   "outputs": [],
   "source": [
    "path = 'config.yaml'\n",
    "\n",
    "config = OmegaConf.load(path)"
   ]
  },
  {
   "cell_type": "code",
   "execution_count": 3,
   "metadata": {},
   "outputs": [
    {
     "name": "stderr",
     "output_type": "stream",
     "text": [
      "/Users/fedra/Library/Python/3.9/lib/python/site-packages/urllib3/__init__.py:34: NotOpenSSLWarning: urllib3 v2.0 only supports OpenSSL 1.1.1+, currently the 'ssl' module is compiled with 'LibreSSL 2.8.3'. See: https://github.com/urllib3/urllib3/issues/3020\n",
      "  warnings.warn(\n",
      "/Users/fedra/Library/Python/3.9/lib/python/site-packages/urllib3/__init__.py:34: NotOpenSSLWarning: urllib3 v2.0 only supports OpenSSL 1.1.1+, currently the 'ssl' module is compiled with 'LibreSSL 2.8.3'. See: https://github.com/urllib3/urllib3/issues/3020\n",
      "  warnings.warn(\n",
      "/Users/fedra/Library/Python/3.9/lib/python/site-packages/urllib3/__init__.py:34: NotOpenSSLWarning: urllib3 v2.0 only supports OpenSSL 1.1.1+, currently the 'ssl' module is compiled with 'LibreSSL 2.8.3'. See: https://github.com/urllib3/urllib3/issues/3020\n",
      "  warnings.warn(\n",
      "/Users/fedra/Library/Python/3.9/lib/python/site-packages/urllib3/__init__.py:34: NotOpenSSLWarning: urllib3 v2.0 only supports OpenSSL 1.1.1+, currently the 'ssl' module is compiled with 'LibreSSL 2.8.3'. See: https://github.com/urllib3/urllib3/issues/3020\n",
      "  warnings.warn(\n"
     ]
    },
    {
     "name": "stdout",
     "output_type": "stream",
     "text": [
      "encodings.shape: torch.Size([64, 129, 88])masks.shape: torch.Size([64, 129, 88])sequence_lengths.shape: torch.Size([64])\n",
      "encodings.shape: torch.Size([64, 129, 88])masks.shape: torch.Size([64, 129, 88])sequence_lengths.shape: torch.Size([64])\n",
      "encodings.shape: torch.Size([64, 129, 88])masks.shape: torch.Size([64, 129, 88])sequence_lengths.shape: torch.Size([64])\n",
      "encodings.shape: torch.Size([37, 129, 88])masks.shape: torch.Size([37, 129, 88])sequence_lengths.shape: torch.Size([37])\n"
     ]
    }
   ],
   "source": [
    "\n",
    "\n",
    "dataset = MusicDataset(config.dataset)\n",
    "dataloader = DataLoader(dataset, \n",
    "                        batch_size=config.train.batch_size, \n",
    "                        num_workers=config.train.num_workers,\n",
    "                        pin_memory=True, #important for speed\n",
    "                        shuffle=True)\n",
    "\n",
    "device = torch.device('mps')\n",
    "model = DVAE(input_dim=config.model.input_dim, \n",
    "                hidden_dim=config.model.hidden_dim,\n",
    "                hidden_dim_em=config.model.hidden_dim_em, \n",
    "                hidden_dim_tr=config.model.hidden_dim_tr, \n",
    "                latent_dim=config.model.latent_dim)\n",
    "model = model.to(device)\n",
    "\n",
    "    \n",
    "for i, (encodings, masks, sequence_lengths) in enumerate(dataloader):\n",
    "    print(f'encodings.shape: {encodings.shape}'\n",
    "          f'masks.shape: {masks.shape}'\n",
    "          f'sequence_lengths.shape: {sequence_lengths.shape}')\n",
    "    encodings = encodings.to(device)\n",
    "    masks = masks.to(device)\n",
    "    sequence_lengths = sequence_lengths.to(device)\n",
    "    x_hat, mus_p_z, sigmas_p_z, mus_generator, sigmas_generators = model(encodings)\n",
    "    "
   ]
  },
  {
   "cell_type": "code",
   "execution_count": 4,
   "metadata": {},
   "outputs": [
    {
     "name": "stdout",
     "output_type": "stream",
     "text": [
      "x_hat.shape: torch.Size([37, 129, 88])\n",
      "mus_p_z.shape: torch.Size([37, 129, 100])\n",
      "sigmas_p_z.shape: torch.Size([37, 129, 100])\n",
      "mus_generator.shape: torch.Size([37, 129, 100])\n",
      "sigmas_generators.shape: torch.Size([37, 129, 100])\n"
     ]
    }
   ],
   "source": [
    "print(f'x_hat.shape: {x_hat.shape}')\n",
    "print(f'mus_p_z.shape: {mus_p_z.shape}')\n",
    "print(f'sigmas_p_z.shape: {sigmas_p_z.shape}')\n",
    "print(f'mus_generator.shape: {mus_generator.shape}')\n",
    "print(f'sigmas_generators.shape: {sigmas_generators.shape}')\n"
   ]
  },
  {
   "cell_type": "code",
   "execution_count": null,
   "metadata": {},
   "outputs": [],
   "source": []
  }
 ],
 "metadata": {
  "kernelspec": {
   "display_name": "Python 3",
   "language": "python",
   "name": "python3"
  },
  "language_info": {
   "codemirror_mode": {
    "name": "ipython",
    "version": 3
   },
   "file_extension": ".py",
   "mimetype": "text/x-python",
   "name": "python",
   "nbconvert_exporter": "python",
   "pygments_lexer": "ipython3",
   "version": "3.9.6"
  },
  "orig_nbformat": 4
 },
 "nbformat": 4,
 "nbformat_minor": 2
}
