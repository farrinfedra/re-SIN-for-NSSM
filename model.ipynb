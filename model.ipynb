{
 "cells": [
  {
   "cell_type": "code",
   "execution_count": 4,
   "metadata": {},
   "outputs": [],
   "source": [
    "\n",
    "import torch\n",
    "import torch.nn.functional as F"
   ]
  },
  {
   "cell_type": "code",
   "execution_count": 4,
   "metadata": {},
   "outputs": [
    {
     "name": "stdout",
     "output_type": "stream",
     "text": [
      "out.shape: torch.Size([1, 129, 800])\n",
      "hidden.shape: torch.Size([2, 1, 400])\n",
      "h_left.shape: torch.Size([1, 129, 400])\n",
      "h_right.shape: torch.Size([1, 129, 400])\n"
     ]
    }
   ],
   "source": [
    "a = torch.randn(1, 129, 88)\n",
    "input_size = a.shape[2]\n",
    "input_size = 88\n",
    "hidden_size = 400\n",
    "\n",
    "rnn = torch.nn.RNN(input_size=input_size, hidden_size=hidden_size, bidirectional=True, batch_first=True)\n",
    "out, hidden = rnn(a) # out: [1, 129, 800], hidden: [2, 1, 400]\n",
    "print(f'out.shape: {out.shape}')\n",
    "print(f'hidden.shape: {hidden.shape}')\n",
    "h_left = out[:, :, :hidden_size]\n",
    "h_right = out[:, :, hidden_size:]\n",
    "\n",
    "print(f'h_left.shape: {h_left.shape}')\n",
    "print(f'h_right.shape: {h_right.shape}')\n"
   ]
  },
  {
   "cell_type": "code",
   "execution_count": 5,
   "metadata": {},
   "outputs": [],
   "source": [
    "z_0 = torch.randn(1, 1, 100)"
   ]
  },
  {
   "cell_type": "code",
   "execution_count": 6,
   "metadata": {},
   "outputs": [
    {
     "name": "stdout",
     "output_type": "stream",
     "text": [
      "h_combined.shape: torch.Size([1, 129, 400])\n"
     ]
    }
   ],
   "source": [
    "combiner = torch.nn.Linear(100, 400)\n",
    "h_combined = combiner(z_0)\n",
    "h_combined = .5 * (F.tanh(h_combined) + h_right)\n",
    "print(f'h_combined.shape: {h_combined.shape}')"
   ]
  },
  {
   "cell_type": "code",
   "execution_count": 7,
   "metadata": {},
   "outputs": [],
   "source": [
    "def softplus(x):\n",
    "    return torch.log(1 + torch.exp(x))"
   ]
  },
  {
   "cell_type": "code",
   "execution_count": 8,
   "metadata": {},
   "outputs": [
    {
     "name": "stdout",
     "output_type": "stream",
     "text": [
      "mu.shape: torch.Size([1, 129, 100])\n",
      "sigma.shape: torch.Size([1, 129, 100])\n"
     ]
    }
   ],
   "source": [
    "mu_linear = torch.nn.Linear(400, 100)\n",
    "sigma_linear = torch.nn.Linear(400, 100)\n",
    "\n",
    "mu = mu_linear(h_combined)\n",
    "sigma = softplus(sigma_linear(h_combined))\n",
    "\n",
    "print(f'mu.shape: {mu.shape}')\n",
    "print(f'sigma.shape: {sigma.shape}')    \n"
   ]
  },
  {
   "cell_type": "code",
   "execution_count": 9,
   "metadata": {},
   "outputs": [],
   "source": [
    "z_1 = mu + sigma * torch.randn_like(mu)\n"
   ]
  },
  {
   "cell_type": "code",
   "execution_count": 10,
   "metadata": {},
   "outputs": [],
   "source": [
    "#emission function\n",
    "emission = torch.nn.Sequential(\n",
    "    torch.nn.Linear(100, 100),\n",
    "    torch.nn.ReLU(),\n",
    "    torch.nn.Linear(100, 100),\n",
    "    torch.nn.ReLU(),\n",
    "    torch.nn.Linear(100, 88),\n",
    "    torch.nn.Sigmoid()\n",
    ")\n",
    "\n",
    "#transition function\n",
    "G = torch.nn.Sequential(\n",
    "    torch.nn.Linear(100, 200), #gating unit\n",
    "    torch.nn.ReLU(),\n",
    "    torch.nn.Linear(200, 100), #proposed mean\n",
    "    torch.nn.Sigmoid()\n",
    ")\n",
    "\n",
    "H = torch.nn.Sequential(\n",
    "    torch.nn.Linear(100, 200), #proposed mean\n",
    "    torch.nn.ReLU(),\n",
    "    torch.nn.Linear(200, 100), #proposed mean\n",
    "    torch.nn.Identity(),\n",
    ")\n",
    "\n",
    "mu_gated_linear = torch.nn.Linear(100, 100) #w_{mu_p} * z_{t-1} + b_{mu_p}\n",
    "sigma_gated_linear = torch.nn.Sequential( #w_{sigma_p} * relu(h_t) + b_{sigma_p}\n",
    "    torch.nn.ReLU(),\n",
    "    torch.nn.Linear(100, 100),\n",
    "    torch.nn.Softplus(),\n",
    ")\n",
    "    \n",
    "\n",
    "\n"
   ]
  },
  {
   "cell_type": "code",
   "execution_count": 11,
   "metadata": {},
   "outputs": [
    {
     "data": {
      "text/plain": [
       "torch.Size([1, 129, 88])"
      ]
     },
     "execution_count": 11,
     "metadata": {},
     "output_type": "execute_result"
    }
   ],
   "source": [
    "emission(z_1).shape"
   ]
  },
  {
   "cell_type": "code",
   "execution_count": 12,
   "metadata": {},
   "outputs": [
    {
     "name": "stdout",
     "output_type": "stream",
     "text": [
      "out.shape: torch.Size([1, 1, 100])\n",
      "sigma_generator.shape: torch.Size([1, 1, 100])\n"
     ]
    }
   ],
   "source": [
    "#forward pass of transition function\n",
    "z_0 = torch.zeros(1, 1, 100)\n",
    "g_out = G(z_0)\n",
    "one_minus_g = 1 - g_out # 1 - g\n",
    "mu_linear_out = mu_gated_linear(z_0) #w_{mu_p} * z_{t-1} + b_{mu_p}\n",
    "elementwise_mu_out = mu_linear_out * one_minus_g\n",
    "proposed_mean_out = H(z_0)\n",
    "mu_generator = (proposed_mean_out * g_out) + elementwise_mu_out\n",
    "\n",
    "sigma_generator = sigma_gated_linear(proposed_mean_out)\n",
    "\n",
    "\n",
    "print(f'out.shape: {one_minus_g.shape}')\n",
    "print(f'sigma_generator.shape: {sigma_generator.shape}')"
   ]
  },
  {
   "cell_type": "code",
   "execution_count": 13,
   "metadata": {},
   "outputs": [],
   "source": [
    "z_1 = mu_generator + sigma_generator * torch.randn_like(mu_generator)"
   ]
  },
  {
   "cell_type": "code",
   "execution_count": 1,
   "metadata": {},
   "outputs": [],
   "source": [
    "from model import DVAE\n",
    "\n",
    "import torch\n",
    "import torch.nn.functional as F"
   ]
  },
  {
   "cell_type": "code",
   "execution_count": 2,
   "metadata": {},
   "outputs": [],
   "source": [
    "model = DVAE()"
   ]
  },
  {
   "cell_type": "code",
   "execution_count": 3,
   "metadata": {},
   "outputs": [],
   "source": [
    "x = torch.randn(3, 129, 88)"
   ]
  },
  {
   "cell_type": "code",
   "execution_count": 4,
   "metadata": {},
   "outputs": [],
   "source": [
    "x_hat, mus, sigmas = model(x)"
   ]
  },
  {
   "cell_type": "code",
   "execution_count": 5,
   "metadata": {},
   "outputs": [
    {
     "data": {
      "text/plain": [
       "(torch.Size([3, 129, 88]),\n",
       " torch.Size([3, 129, 100]),\n",
       " torch.Size([3, 129, 100]))"
      ]
     },
     "execution_count": 5,
     "metadata": {},
     "output_type": "execute_result"
    }
   ],
   "source": [
    "x_hat.shape, mus.shape, sigmas.shape"
   ]
  },
  {
   "cell_type": "code",
   "execution_count": null,
   "metadata": {},
   "outputs": [],
   "source": []
  }
 ],
 "metadata": {
  "kernelspec": {
   "display_name": "Python 3",
   "language": "python",
   "name": "python3"
  },
  "language_info": {
   "codemirror_mode": {
    "name": "ipython",
    "version": 3
   },
   "file_extension": ".py",
   "mimetype": "text/x-python",
   "name": "python",
   "nbconvert_exporter": "python",
   "pygments_lexer": "ipython3",
   "version": "3.9.6"
  },
  "orig_nbformat": 4
 },
 "nbformat": 4,
 "nbformat_minor": 2
}
