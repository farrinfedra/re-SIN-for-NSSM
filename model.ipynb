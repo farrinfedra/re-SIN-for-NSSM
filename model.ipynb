{
 "cells": [
  {
   "cell_type": "code",
   "execution_count": 1,
   "metadata": {},
   "outputs": [],
   "source": [
    "\n",
    "import torch\n",
    "import torch.nn.functional as F"
   ]
  },
  {
   "cell_type": "code",
   "execution_count": 2,
   "metadata": {},
   "outputs": [
    {
     "name": "stdout",
     "output_type": "stream",
     "text": [
      "out.shape: torch.Size([1, 129, 800])\n",
      "hidden.shape: torch.Size([2, 1, 400])\n",
      "h_left.shape: torch.Size([1, 129, 400])\n",
      "h_right.shape: torch.Size([1, 129, 400])\n"
     ]
    }
   ],
   "source": [
    "a = torch.randn(1, 129, 88)\n",
    "input_size = a.shape[2]\n",
    "input_size = 88\n",
    "hidden_size = 400\n",
    "\n",
    "rnn = torch.nn.RNN(input_size=input_size, hidden_size=hidden_size, bidirectional=True, batch_first=True)\n",
    "out, hidden = rnn(a) # out: [1, 129, 800], hidden: [2, 1, 400]\n",
    "print(f'out.shape: {out.shape}')\n",
    "print(f'hidden.shape: {hidden.shape}')\n",
    "h_left = out[:, :, :hidden_size]\n",
    "h_right = out[:, :, hidden_size:]\n",
    "\n",
    "print(f'h_left.shape: {h_left.shape}')\n",
    "print(f'h_right.shape: {h_right.shape}')\n"
   ]
  },
  {
   "cell_type": "code",
   "execution_count": 3,
   "metadata": {},
   "outputs": [],
   "source": [
    "z_0 = torch.randn(1, 1, 100)"
   ]
  },
  {
   "cell_type": "code",
   "execution_count": 4,
   "metadata": {},
   "outputs": [
    {
     "name": "stdout",
     "output_type": "stream",
     "text": [
      "h_combined.shape: torch.Size([1, 129, 400])\n"
     ]
    }
   ],
   "source": [
    "combiner = torch.nn.Linear(100, 400)\n",
    "h_combined = combiner(z_0)\n",
    "h_combined = .5 * (F.tanh(h_combined) + h_right)\n",
    "print(f'h_combined.shape: {h_combined.shape}')"
   ]
  },
  {
   "cell_type": "code",
   "execution_count": 5,
   "metadata": {},
   "outputs": [],
   "source": [
    "def softplus(x):\n",
    "    return torch.log(1 + torch.exp(x))"
   ]
  },
  {
   "cell_type": "code",
   "execution_count": 6,
   "metadata": {},
   "outputs": [
    {
     "name": "stdout",
     "output_type": "stream",
     "text": [
      "mu.shape: torch.Size([1, 129, 100])\n",
      "sigma.shape: torch.Size([1, 129, 100])\n"
     ]
    }
   ],
   "source": [
    "mu_linear = torch.nn.Linear(400, 100)\n",
    "sigma_linear = torch.nn.Linear(400, 100)\n",
    "\n",
    "mu = mu_linear(h_combined)\n",
    "sigma = softplus(sigma_linear(h_combined))\n",
    "\n",
    "print(f'mu.shape: {mu.shape}')\n",
    "print(f'sigma.shape: {sigma.shape}')    \n"
   ]
  },
  {
   "cell_type": "code",
   "execution_count": 7,
   "metadata": {},
   "outputs": [],
   "source": [
    "z_1 = mu + sigma * torch.randn_like(mu)\n"
   ]
  },
  {
   "cell_type": "code",
   "execution_count": 8,
   "metadata": {},
   "outputs": [],
   "source": [
    "#emission function\n",
    "emission = torch.nn.Sequential(\n",
    "    torch.nn.Linear(100, 100),\n",
    "    torch.nn.ReLU(),\n",
    "    torch.nn.Linear(100, 100),\n",
    "    torch.nn.ReLU(),\n",
    "    torch.nn.Linear(100, 88),\n",
    "    torch.nn.Sigmoid()\n",
    ")\n",
    "\n",
    "#transition function\n",
    "G = torch.nn.Sequential(\n",
    "    torch.nn.Linear(100, 200), #gating unit\n",
    "    torch.nn.ReLU(),\n",
    "    torch.nn.Linear(200, 100), #proposed mean\n",
    "    torch.nn.Sigmoid()\n",
    ")\n",
    "\n",
    "H = torch.nn.Sequential(\n",
    "    torch.nn.Linear(100, 200), #proposed mean\n",
    "    torch.nn.ReLU(),\n",
    "    torch.nn.Linear(200, 100), #proposed mean\n",
    "    torch.nn.Identity(),\n",
    ")\n",
    "\n",
    "mu_gated_linear = torch.nn.Linear(100, 100) #w_{mu_p} * z_{t-1} + b_{mu_p}\n",
    "sigma_gated_linear = torch.nn.Sequential( #w_{sigma_p} * relu(h_t) + b_{sigma_p}\n",
    "    torch.nn.ReLU(),\n",
    "    torch.nn.Linear(100, 100),\n",
    "    torch.nn.Softplus(),\n",
    ")\n",
    "    \n",
    "\n",
    "\n"
   ]
  },
  {
   "cell_type": "code",
   "execution_count": 9,
   "metadata": {},
   "outputs": [
    {
     "data": {
      "text/plain": [
       "torch.Size([1, 129, 88])"
      ]
     },
     "execution_count": 9,
     "metadata": {},
     "output_type": "execute_result"
    }
   ],
   "source": [
    "emission(z_1).shape"
   ]
  },
  {
   "cell_type": "code",
   "execution_count": 10,
   "metadata": {},
   "outputs": [
    {
     "name": "stdout",
     "output_type": "stream",
     "text": [
      "out.shape: torch.Size([1, 1, 100])\n",
      "sigma_generator.shape: torch.Size([1, 1, 100])\n"
     ]
    }
   ],
   "source": [
    "#forward pass of transition function\n",
    "z_0 = torch.zeros(1, 1, 100)\n",
    "g_out = G(z_0)\n",
    "one_minus_g = 1 - g_out # 1 - g\n",
    "mu_linear_out = mu_gated_linear(z_0) #w_{mu_p} * z_{t-1} + b_{mu_p}\n",
    "elementwise_mu_out = mu_linear_out * one_minus_g\n",
    "proposed_mean_out = H(z_0)\n",
    "mu_generator = (proposed_mean_out * g_out) + elementwise_mu_out\n",
    "\n",
    "sigma_generator = sigma_gated_linear(proposed_mean_out)\n",
    "\n",
    "\n",
    "print(f'out.shape: {one_minus_g.shape}')\n",
    "print(f'sigma_generator.shape: {sigma_generator.shape}')"
   ]
  },
  {
   "cell_type": "code",
   "execution_count": 11,
   "metadata": {},
   "outputs": [],
   "source": [
    "z_1 = mu_generator + sigma_generator * torch.randn_like(mu_generator)"
   ]
  },
  {
   "cell_type": "code",
   "execution_count": 1,
   "metadata": {},
   "outputs": [],
   "source": [
    "from model import DVAE\n",
    "\n",
    "import torch\n",
    "import torch.nn.functional as F"
   ]
  },
  {
   "cell_type": "code",
   "execution_count": 2,
   "metadata": {},
   "outputs": [],
   "source": [
    "model = DVAE()"
   ]
  },
  {
   "cell_type": "code",
   "execution_count": 3,
   "metadata": {},
   "outputs": [],
   "source": [
    "x = torch.randn(3, 129, 88)"
   ]
  },
  {
   "cell_type": "code",
   "execution_count": 4,
   "metadata": {},
   "outputs": [],
   "source": [
    "x_hat, mus_p_z, sigmas_p_z, mus_generator, sigmas_generators = model(x)"
   ]
  },
  {
   "cell_type": "code",
   "execution_count": 5,
   "metadata": {},
   "outputs": [],
   "source": [
    "def kl_normal(qm, qv, pm, pv):\n",
    "    \"\"\"\n",
    "    Computes the elem-wise KL divergence between two normal distributions KL(q || p) and\n",
    "    sum over the last dimension\n",
    "\n",
    "    Args:\n",
    "        qm: tensor: (batch, dim): q mean\n",
    "        qv: tensor: (batch, dim): q variance\n",
    "        pm: tensor: (batch, dim): p mean\n",
    "        pv: tensor: (batch, dim): p variance\n",
    "\n",
    "    Return:\n",
    "        kl: tensor: (batch,): kl between each sample\n",
    "    \"\"\"\n",
    "    \n",
    "    element_wise = 0.5 * (torch.log(pv) - torch.log(qv) + qv / pv + (qm - pm).pow(2) / pv - 1)\n",
    "    print(f'element_wise.shape: {element_wise.shape}')\n",
    "    kl = element_wise.sum(-1)\n",
    "    return kl"
   ]
  },
  {
   "cell_type": "code",
   "execution_count": 6,
   "metadata": {},
   "outputs": [
    {
     "name": "stdout",
     "output_type": "stream",
     "text": [
      "x_hat.shape: torch.Size([3, 129, 88])\n",
      "mus_p_z.shape: torch.Size([3, 129, 100])\n",
      "sigmas_p_z.shape: torch.Size([3, 129, 100])\n",
      "mus_generator.shape: torch.Size([3, 129, 100])\n",
      "sigmas_generators.shape: torch.Size([3, 129, 100])\n"
     ]
    }
   ],
   "source": [
    "print(f'x_hat.shape: {x_hat.shape}')\n",
    "print(f'mus_p_z.shape: {mus_p_z.shape}')\n",
    "print(f'sigmas_p_z.shape: {sigmas_p_z.shape}')\n",
    "print(f'mus_generator.shape: {mus_generator.shape}')\n",
    "print(f'sigmas_generators.shape: {sigmas_generators.shape}')\n"
   ]
  },
  {
   "cell_type": "code",
   "execution_count": 7,
   "metadata": {},
   "outputs": [
    {
     "name": "stdout",
     "output_type": "stream",
     "text": [
      "mu_z_1.shape: torch.Size([3, 100])\n",
      "sigma_z_1.shape: torch.Size([3, 100])\n",
      "mus_generator_1.shape: torch.Size([3, 100])\n",
      "sigmas_generator_1.shape: torch.Size([3, 100])\n",
      "element_wise.shape: torch.Size([3, 100])\n",
      "single_kl: tensor([3.3950, 3.1909, 3.2479], grad_fn=<SumBackward1>)\n"
     ]
    }
   ],
   "source": [
    "mu_z_1 = mus_p_z[:, 0, :]\n",
    "sigma_z_1 = sigmas_p_z[:, 0, :]\n",
    "print(f'mu_z_1.shape: {mu_z_1.shape}')\n",
    "print(f'sigma_z_1.shape: {sigma_z_1.shape}')\n",
    "\n",
    "mus_generator_1 = mus_generator[:, 0, :]\n",
    "sigmas_generator_1 = sigmas_generators[:, 0, :]\n",
    "print(f'mus_generator_1.shape: {mus_generator_1.shape}')\n",
    "print(f'sigmas_generator_1.shape: {sigmas_generator_1.shape}')\n",
    "\n",
    "single_kl = kl_normal(mu_z_1,\n",
    "          sigma_z_1,\n",
    "          mus_generator_1,\n",
    "          sigmas_generator_1,\n",
    "          )\n",
    "\n",
    "print(f'single_kl: {single_kl}')"
   ]
  },
  {
   "cell_type": "code",
   "execution_count": 10,
   "metadata": {},
   "outputs": [],
   "source": [
    "from einops import rearrange, repeat"
   ]
  },
  {
   "cell_type": "code",
   "execution_count": 18,
   "metadata": {},
   "outputs": [],
   "source": [
    "bce = torch.nn.BCEWithLogitsLoss(reduction='none')\n",
    "def log_bernoulli_with_logits(x, logits, sequence_lengths):\n",
    "    \"\"\"\n",
    "    Computes the log probability of a Bernoulli given its logits\n",
    "\n",
    "    Args:\n",
    "        x: tensor: (batch, dim): Observation\n",
    "        logits: tensor: (batch, dim): Bernoulli logits\n",
    "\n",
    "    Return:\n",
    "        log_prob: tensor: (batch,): log probability of each sample\n",
    "    \"\"\"\n",
    "    log_prob = F.binary_cross_entropy(input=logits, target=x) #-bce(input=logits, target=x) #TODO: check if suming over t is correct\n",
    "    bs, max_sequence_length, _ = x.shape\n",
    "    \n",
    "    range_tensor = repeat(torch.arange(max_sequence_length), 'l -> b l', b=bs).to(x.device)\n",
    "    mask = range_tensor < rearrange(sequence_lengths, 'b -> b ()')\n",
    "    mask = rearrange(mask, 'b s -> b s ()')\n",
    "\n",
    "    nll = log_prob * mask.float()\n",
    "    \n",
    "    return nll.sum(-1).sum(-1)"
   ]
  },
  {
   "cell_type": "code",
   "execution_count": 9,
   "metadata": {},
   "outputs": [],
   "source": [
    "recon_loss = -log_bernoulli_with_logits(x_hat, x)"
   ]
  },
  {
   "cell_type": "code",
   "execution_count": 10,
   "metadata": {},
   "outputs": [
    {
     "name": "stdout",
     "output_type": "stream",
     "text": [
      "element_wise.shape: torch.Size([3, 128, 100])\n"
     ]
    }
   ],
   "source": [
    "#KL(q, p) for t=2 to T\n",
    "\n",
    "kl_q_p_2 = kl_normal(mus_generator[:, 1:, :],\n",
    "          sigmas_generators[:, 1:, :],\n",
    "          mus_p_z[:, 1:, :],\n",
    "          sigmas_p_z[:, 1:, :])"
   ]
  },
  {
   "cell_type": "code",
   "execution_count": 11,
   "metadata": {},
   "outputs": [
    {
     "data": {
      "text/plain": [
       "torch.Size([3])"
      ]
     },
     "execution_count": 11,
     "metadata": {},
     "output_type": "execute_result"
    }
   ],
   "source": [
    "kl_q_p_2.sum(-1).shape"
   ]
  },
  {
   "cell_type": "code",
   "execution_count": 12,
   "metadata": {},
   "outputs": [
    {
     "data": {
      "text/plain": [
       "tensor([3.3950, 3.1909, 3.2479], grad_fn=<SumBackward1>)"
      ]
     },
     "execution_count": 12,
     "metadata": {},
     "output_type": "execute_result"
    }
   ],
   "source": [
    "single_kl"
   ]
  },
  {
   "cell_type": "code",
   "execution_count": 13,
   "metadata": {},
   "outputs": [],
   "source": [
    "nelbo_loss = recon_loss.mean() + kl_q_p_2.sum(-1).mean() + single_kl.mean()"
   ]
  },
  {
   "cell_type": "code",
   "execution_count": 19,
   "metadata": {},
   "outputs": [],
   "source": [
    "from omegaconf import OmegaConf\n",
    "import argparse\n",
    "import os\n",
    "import torch\n",
    "from omegaconf import OmegaConf\n",
    "from torch.utils.data import DataLoader\n",
    "import wandb\n",
    "\n",
    "from dataloader import MusicDataset\n",
    "from model import DVAE "
   ]
  },
  {
   "cell_type": "code",
   "execution_count": 20,
   "metadata": {},
   "outputs": [],
   "source": [
    "path = 'config.yaml'\n",
    "\n",
    "config = OmegaConf.load(path)"
   ]
  },
  {
   "cell_type": "code",
   "execution_count": 21,
   "metadata": {},
   "outputs": [],
   "source": [
    "\n",
    "\n",
    "dataset = MusicDataset(config.dataset)\n",
    "dataloader = DataLoader(dataset, \n",
    "                        batch_size=config.train.batch_size, \n",
    "                        num_workers=config.train.num_workers,\n",
    "                        pin_memory=True, #important for speed\n",
    "                        shuffle=True)\n",
    "\n",
    "device = torch.device('mps')\n",
    "model = DVAE(input_dim=config.model.input_dim, \n",
    "                hidden_dim=config.model.hidden_dim,\n",
    "                hidden_dim_em=config.model.hidden_dim_em, \n",
    "                hidden_dim_tr=config.model.hidden_dim_tr, \n",
    "                latent_dim=config.model.latent_dim)\n",
    "model = model.to(device)\n",
    "\n",
    "    \n",
    "for i, (encodings, sequence_lengths) in enumerate(dataloader):\n",
    "    # print(f'encodings.shape: {encodings.shape}'\n",
    "    #       f'masks.shape: {masks.shape}'\n",
    "    #       f'sequence_lengths.shape: {sequence_lengths.shape}')\n",
    "    encodings = encodings.to(device)\n",
    "    # masks = masks.to(device)\n",
    "#     sequence_lengths = sequence_lengths.to(device)\n",
    "    x_hat, mus_inference, sigmas_inference, mus_generator, sigmas_generators = model(encodings)\n",
    "    \n",
    "    "
   ]
  },
  {
   "cell_type": "code",
   "execution_count": 22,
   "metadata": {},
   "outputs": [
    {
     "name": "stdout",
     "output_type": "stream",
     "text": [
      "x_hat.shape: torch.Size([37, 129, 88])\n",
      "mus_p_z.shape: torch.Size([37, 129, 100])\n",
      "sigmas_p_z.shape: torch.Size([37, 129, 100])\n",
      "mus_generator.shape: torch.Size([37, 129, 100])\n",
      "sigmas_generators.shape: torch.Size([37, 129, 100])\n"
     ]
    }
   ],
   "source": [
    "print(f'x_hat.shape: {x_hat.shape}')\n",
    "print(f'mus_p_z.shape: {mus_inference.shape}')\n",
    "print(f'sigmas_p_z.shape: {sigmas_inference.shape}')\n",
    "print(f'mus_generator.shape: {mus_generator.shape}')\n",
    "print(f'sigmas_generators.shape: {sigmas_generators.shape}')\n"
   ]
  },
  {
   "cell_type": "code",
   "execution_count": 26,
   "metadata": {},
   "outputs": [
    {
     "data": {
      "text/plain": [
       "tensor([[[0.4859, 0.5299, 0.5224,  ..., 0.5078, 0.5089, 0.5274],\n",
       "         [0.4966, 0.5218, 0.5254,  ..., 0.5173, 0.5178, 0.5077],\n",
       "         [0.4905, 0.5380, 0.5138,  ..., 0.5170, 0.5183, 0.5388],\n",
       "         ...,\n",
       "         [0.4780, 0.5150, 0.5275,  ..., 0.5088, 0.5482, 0.4937],\n",
       "         [0.5051, 0.5314, 0.5361,  ..., 0.4933, 0.4987, 0.5184],\n",
       "         [0.4979, 0.5187, 0.5203,  ..., 0.5258, 0.4945, 0.5186]],\n",
       "\n",
       "        [[0.4718, 0.5219, 0.5250,  ..., 0.4888, 0.5122, 0.4924],\n",
       "         [0.5032, 0.5299, 0.5289,  ..., 0.5124, 0.5183, 0.4993],\n",
       "         [0.4930, 0.5425, 0.5235,  ..., 0.4983, 0.5220, 0.5124],\n",
       "         ...,\n",
       "         [0.4972, 0.5407, 0.4976,  ..., 0.5171, 0.5144, 0.5400],\n",
       "         [0.5184, 0.5251, 0.5346,  ..., 0.5290, 0.5155, 0.5194],\n",
       "         [0.5043, 0.5218, 0.5230,  ..., 0.5319, 0.5118, 0.4994]],\n",
       "\n",
       "        [[0.4900, 0.5395, 0.5174,  ..., 0.5028, 0.5152, 0.5365],\n",
       "         [0.5120, 0.5314, 0.5197,  ..., 0.5135, 0.4993, 0.5329],\n",
       "         [0.4960, 0.5352, 0.5275,  ..., 0.5298, 0.4976, 0.5065],\n",
       "         ...,\n",
       "         [0.4757, 0.5242, 0.5346,  ..., 0.5033, 0.5241, 0.5037],\n",
       "         [0.4945, 0.5417, 0.5337,  ..., 0.5162, 0.5192, 0.5107],\n",
       "         [0.5091, 0.5087, 0.5154,  ..., 0.5037, 0.5099, 0.5164]],\n",
       "\n",
       "        ...,\n",
       "\n",
       "        [[0.5230, 0.5217, 0.5159,  ..., 0.5294, 0.5059, 0.5211],\n",
       "         [0.5050, 0.5419, 0.5260,  ..., 0.5335, 0.5239, 0.5466],\n",
       "         [0.5041, 0.5301, 0.5036,  ..., 0.5173, 0.5426, 0.4954],\n",
       "         ...,\n",
       "         [0.5168, 0.5047, 0.5115,  ..., 0.5131, 0.5057, 0.5025],\n",
       "         [0.4936, 0.5213, 0.5142,  ..., 0.5220, 0.5190, 0.5098],\n",
       "         [0.5168, 0.5147, 0.4859,  ..., 0.4952, 0.4869, 0.5161]],\n",
       "\n",
       "        [[0.5153, 0.5168, 0.5123,  ..., 0.5283, 0.5055, 0.4803],\n",
       "         [0.4762, 0.5408, 0.5352,  ..., 0.5073, 0.5276, 0.4951],\n",
       "         [0.5063, 0.5280, 0.5249,  ..., 0.5149, 0.5292, 0.5049],\n",
       "         ...,\n",
       "         [0.4985, 0.5320, 0.5343,  ..., 0.5279, 0.5045, 0.4951],\n",
       "         [0.5019, 0.5236, 0.5299,  ..., 0.4964, 0.5230, 0.5320],\n",
       "         [0.5081, 0.5392, 0.5406,  ..., 0.4850, 0.5149, 0.5269]],\n",
       "\n",
       "        [[0.4765, 0.5288, 0.5149,  ..., 0.5248, 0.5168, 0.4930],\n",
       "         [0.5103, 0.5295, 0.5336,  ..., 0.5408, 0.5248, 0.5200],\n",
       "         [0.5000, 0.5093, 0.5135,  ..., 0.4970, 0.5032, 0.5227],\n",
       "         ...,\n",
       "         [0.5132, 0.5210, 0.5052,  ..., 0.5262, 0.5193, 0.5093],\n",
       "         [0.5032, 0.5354, 0.5337,  ..., 0.5130, 0.5027, 0.5132],\n",
       "         [0.5086, 0.5476, 0.5048,  ..., 0.5186, 0.4984, 0.5094]]],\n",
       "       device='mps:0', grad_fn=<SigmoidBackward0>)"
      ]
     },
     "execution_count": 26,
     "metadata": {},
     "output_type": "execute_result"
    }
   ],
   "source": [
    "x_hat"
   ]
  },
  {
   "cell_type": "code",
   "execution_count": 27,
   "metadata": {},
   "outputs": [
    {
     "data": {
      "text/plain": [
       "tensor([-3995.2393, -2767.0425, -5903.4951, -4180.5957, -2519.7283, -3935.4448,\n",
       "        -2766.2849, -5224.0972, -3751.3345, -3997.0784, -2028.6697, -3258.9133,\n",
       "        -3503.3894, -3932.9912, -3996.2595, -3994.0000, -2765.6836, -3935.3130,\n",
       "        -3996.2842, -3505.1663, -3012.1821, -2274.0977, -2950.3484, -3994.8369,\n",
       "        -3012.2085, -3013.1709, -3504.4243, -4241.6216, -3996.7361, -4240.3374,\n",
       "        -3012.4373, -2950.4971, -2458.5959, -5715.3682, -5473.3911, -4179.5400,\n",
       "        -3997.2388], device='mps:0', grad_fn=<SumBackward1>)"
      ]
     },
     "execution_count": 27,
     "metadata": {},
     "output_type": "execute_result"
    }
   ],
   "source": [
    "nll = log_bernoulli_with_logits(x_hat, encodings, sequence_lengths.to(device))\n",
    "nll.shape\n",
    "nll"
   ]
  },
  {
   "cell_type": "code",
   "execution_count": null,
   "metadata": {},
   "outputs": [
    {
     "ename": "RuntimeError",
     "evalue": "one of the variables needed for gradient computation has been modified by an inplace operation: [MPSFloatType [37, 100]], which is output 0 of AsStridedBackward0, is at version 129; expected version 128 instead. Hint: enable anomaly detection to find the operation that failed to compute its gradient, with torch.autograd.set_detect_anomaly(True).",
     "output_type": "error",
     "traceback": [
      "\u001b[0;31m---------------------------------------------------------------------------\u001b[0m",
      "\u001b[0;31mRuntimeError\u001b[0m                              Traceback (most recent call last)",
      "\u001b[1;32m/Users/fedra/Desktop/re-SIN-for-NSSM/model.ipynb Cell 31\u001b[0m line \u001b[0;36m1\n\u001b[0;32m----> <a href='vscode-notebook-cell:/Users/fedra/Desktop/re-SIN-for-NSSM/model.ipynb#X61sZmlsZQ%3D%3D?line=0'>1</a>\u001b[0m nll\u001b[39m.\u001b[39;49mmean()\u001b[39m.\u001b[39;49mbackward()\n",
      "File \u001b[0;32m~/Library/Python/3.9/lib/python/site-packages/torch/_tensor.py:492\u001b[0m, in \u001b[0;36mTensor.backward\u001b[0;34m(self, gradient, retain_graph, create_graph, inputs)\u001b[0m\n\u001b[1;32m    482\u001b[0m \u001b[39mif\u001b[39;00m has_torch_function_unary(\u001b[39mself\u001b[39m):\n\u001b[1;32m    483\u001b[0m     \u001b[39mreturn\u001b[39;00m handle_torch_function(\n\u001b[1;32m    484\u001b[0m         Tensor\u001b[39m.\u001b[39mbackward,\n\u001b[1;32m    485\u001b[0m         (\u001b[39mself\u001b[39m,),\n\u001b[0;32m   (...)\u001b[0m\n\u001b[1;32m    490\u001b[0m         inputs\u001b[39m=\u001b[39minputs,\n\u001b[1;32m    491\u001b[0m     )\n\u001b[0;32m--> 492\u001b[0m torch\u001b[39m.\u001b[39;49mautograd\u001b[39m.\u001b[39;49mbackward(\n\u001b[1;32m    493\u001b[0m     \u001b[39mself\u001b[39;49m, gradient, retain_graph, create_graph, inputs\u001b[39m=\u001b[39;49minputs\n\u001b[1;32m    494\u001b[0m )\n",
      "File \u001b[0;32m~/Library/Python/3.9/lib/python/site-packages/torch/autograd/__init__.py:251\u001b[0m, in \u001b[0;36mbackward\u001b[0;34m(tensors, grad_tensors, retain_graph, create_graph, grad_variables, inputs)\u001b[0m\n\u001b[1;32m    246\u001b[0m     retain_graph \u001b[39m=\u001b[39m create_graph\n\u001b[1;32m    248\u001b[0m \u001b[39m# The reason we repeat the same comment below is that\u001b[39;00m\n\u001b[1;32m    249\u001b[0m \u001b[39m# some Python versions print out the first line of a multi-line function\u001b[39;00m\n\u001b[1;32m    250\u001b[0m \u001b[39m# calls in the traceback and some print out the last line\u001b[39;00m\n\u001b[0;32m--> 251\u001b[0m Variable\u001b[39m.\u001b[39;49m_execution_engine\u001b[39m.\u001b[39;49mrun_backward(  \u001b[39m# Calls into the C++ engine to run the backward pass\u001b[39;49;00m\n\u001b[1;32m    252\u001b[0m     tensors,\n\u001b[1;32m    253\u001b[0m     grad_tensors_,\n\u001b[1;32m    254\u001b[0m     retain_graph,\n\u001b[1;32m    255\u001b[0m     create_graph,\n\u001b[1;32m    256\u001b[0m     inputs,\n\u001b[1;32m    257\u001b[0m     allow_unreachable\u001b[39m=\u001b[39;49m\u001b[39mTrue\u001b[39;49;00m,\n\u001b[1;32m    258\u001b[0m     accumulate_grad\u001b[39m=\u001b[39;49m\u001b[39mTrue\u001b[39;49;00m,\n\u001b[1;32m    259\u001b[0m )\n",
      "\u001b[0;31mRuntimeError\u001b[0m: one of the variables needed for gradient computation has been modified by an inplace operation: [MPSFloatType [37, 100]], which is output 0 of AsStridedBackward0, is at version 129; expected version 128 instead. Hint: enable anomaly detection to find the operation that failed to compute its gradient, with torch.autograd.set_detect_anomaly(True)."
     ]
    }
   ],
   "source": [
    "nll.mean().backward()"
   ]
  },
  {
   "cell_type": "code",
   "execution_count": 102,
   "metadata": {},
   "outputs": [],
   "source": [
    "from einops import repeat, rearrange\n",
    "\"\"\"\n",
    "Computes the elem-wise KL divergence between two normal distributions KL(q || p) and\n",
    "sum over the last dimension\n",
    "\n",
    "Args:\n",
    "    qm: tensor: (batch, dim): q mean\n",
    "    qv: tensor: (batch, dim): q variance\n",
    "    pm: tensor: (batch, dim): p mean\n",
    "    pv: tensor: (batch, dim): p variance\n",
    "\n",
    "Return:\n",
    "    kl: tensor: (batch,): kl between each sample\n",
    "\"\"\"\n",
    "qm = mus_generator\n",
    "qv = sigmas_generators\n",
    "pm = mus_inference\n",
    "pv = sigmas_inference\n",
    "\n",
    "element_wise = 0.5 * (torch.log(pv) - torch.log(qv) + qv / pv + (qm - pm).pow(2) / pv - 1)\n",
    "\n",
    "# mask out the padding after sequence length for each datapoint\n",
    "bs, max_sequence_length, _ = element_wise.shape\n",
    "\n",
    "# range_tensor = torch.arange(max_sequence_length).unsqueeze(0).expand(bs, -1) # [seq] -> [1, seq] -> [bs, seq]\n",
    "range_tensor = repeat(torch.arange(max_sequence_length), 'l -> b l', b=bs)\n",
    "mask = range_tensor < rearrange(sequence_lengths, 'b -> b ()')\n",
    "mask = rearrange(mask, 'b s -> b s ()')\n",
    "\n",
    "kl = element_wise * mask.float()\n",
    "kl = kl.sum(-1).sum(-1)\n"
   ]
  },
  {
   "cell_type": "code",
   "execution_count": 109,
   "metadata": {},
   "outputs": [
    {
     "ename": "RuntimeError",
     "evalue": "Trying to backward through the graph a second time (or directly access saved tensors after they have already been freed). Saved intermediate values of the graph are freed when you call .backward() or autograd.grad(). Specify retain_graph=True if you need to backward through the graph a second time or if you need to access saved tensors after calling backward.",
     "output_type": "error",
     "traceback": [
      "\u001b[0;31m---------------------------------------------------------------------------\u001b[0m",
      "\u001b[0;31mRuntimeError\u001b[0m                              Traceback (most recent call last)",
      "\u001b[1;32m/Users/fedra/Desktop/re-SIN-for-NSSM/model.ipynb Cell 32\u001b[0m line \u001b[0;36m1\n\u001b[0;32m----> <a href='vscode-notebook-cell:/Users/fedra/Desktop/re-SIN-for-NSSM/model.ipynb#X56sZmlsZQ%3D%3D?line=0'>1</a>\u001b[0m kl\u001b[39m.\u001b[39;49mmean()\u001b[39m.\u001b[39;49mbackward()\n",
      "File \u001b[0;32m~/Library/Python/3.9/lib/python/site-packages/torch/_tensor.py:492\u001b[0m, in \u001b[0;36mTensor.backward\u001b[0;34m(self, gradient, retain_graph, create_graph, inputs)\u001b[0m\n\u001b[1;32m    482\u001b[0m \u001b[39mif\u001b[39;00m has_torch_function_unary(\u001b[39mself\u001b[39m):\n\u001b[1;32m    483\u001b[0m     \u001b[39mreturn\u001b[39;00m handle_torch_function(\n\u001b[1;32m    484\u001b[0m         Tensor\u001b[39m.\u001b[39mbackward,\n\u001b[1;32m    485\u001b[0m         (\u001b[39mself\u001b[39m,),\n\u001b[0;32m   (...)\u001b[0m\n\u001b[1;32m    490\u001b[0m         inputs\u001b[39m=\u001b[39minputs,\n\u001b[1;32m    491\u001b[0m     )\n\u001b[0;32m--> 492\u001b[0m torch\u001b[39m.\u001b[39;49mautograd\u001b[39m.\u001b[39;49mbackward(\n\u001b[1;32m    493\u001b[0m     \u001b[39mself\u001b[39;49m, gradient, retain_graph, create_graph, inputs\u001b[39m=\u001b[39;49minputs\n\u001b[1;32m    494\u001b[0m )\n",
      "File \u001b[0;32m~/Library/Python/3.9/lib/python/site-packages/torch/autograd/__init__.py:251\u001b[0m, in \u001b[0;36mbackward\u001b[0;34m(tensors, grad_tensors, retain_graph, create_graph, grad_variables, inputs)\u001b[0m\n\u001b[1;32m    246\u001b[0m     retain_graph \u001b[39m=\u001b[39m create_graph\n\u001b[1;32m    248\u001b[0m \u001b[39m# The reason we repeat the same comment below is that\u001b[39;00m\n\u001b[1;32m    249\u001b[0m \u001b[39m# some Python versions print out the first line of a multi-line function\u001b[39;00m\n\u001b[1;32m    250\u001b[0m \u001b[39m# calls in the traceback and some print out the last line\u001b[39;00m\n\u001b[0;32m--> 251\u001b[0m Variable\u001b[39m.\u001b[39;49m_execution_engine\u001b[39m.\u001b[39;49mrun_backward(  \u001b[39m# Calls into the C++ engine to run the backward pass\u001b[39;49;00m\n\u001b[1;32m    252\u001b[0m     tensors,\n\u001b[1;32m    253\u001b[0m     grad_tensors_,\n\u001b[1;32m    254\u001b[0m     retain_graph,\n\u001b[1;32m    255\u001b[0m     create_graph,\n\u001b[1;32m    256\u001b[0m     inputs,\n\u001b[1;32m    257\u001b[0m     allow_unreachable\u001b[39m=\u001b[39;49m\u001b[39mTrue\u001b[39;49;00m,\n\u001b[1;32m    258\u001b[0m     accumulate_grad\u001b[39m=\u001b[39;49m\u001b[39mTrue\u001b[39;49;00m,\n\u001b[1;32m    259\u001b[0m )\n",
      "\u001b[0;31mRuntimeError\u001b[0m: Trying to backward through the graph a second time (or directly access saved tensors after they have already been freed). Saved intermediate values of the graph are freed when you call .backward() or autograd.grad(). Specify retain_graph=True if you need to backward through the graph a second time or if you need to access saved tensors after calling backward."
     ]
    }
   ],
   "source": [
    "kl.mean().backward()"
   ]
  },
  {
   "cell_type": "code",
   "execution_count": 85,
   "metadata": {},
   "outputs": [],
   "source": [
    "range_tensor = torch.arange(129).unsqueeze(0).expand(element_wise.shape[0], -1).to('cpu')\n",
    "\n",
    "# Create the mask: True for elements we want to keep, False for elements to be masked\n",
    "mask = range_tensor < sequence_lengths.unsqueeze(1).to('cpu')\n",
    "\n",
    "# Apply the mask to the data\n",
    "# You need to unsqueeze the mask to make its shape (batch_size, sequence_length, 1) so it broadcasts correctly over the feature dimension\n",
    "masked_data = element_wise * mask.unsqueeze(2).float()"
   ]
  },
  {
   "cell_type": "code",
   "execution_count": 86,
   "metadata": {},
   "outputs": [
    {
     "data": {
      "text/plain": [
       "tensor([703.9436, 710.7096, 704.5284, 673.8802, 701.5371, 705.6766, 693.5052,\n",
       "        696.0417, 708.2553, 719.8946, 676.9679, 706.6138, 710.3296, 703.0452,\n",
       "        697.2532, 714.9741, 686.5779, 712.7692, 731.7780, 722.0126, 721.5752,\n",
       "        678.3644, 711.3787, 705.0903, 693.5876, 665.4576, 686.4227, 665.4719,\n",
       "        704.4774, 688.3771, 707.5785, 695.1637, 714.8768, 700.8198, 694.5972,\n",
       "        691.2836, 700.0506], grad_fn=<SumBackward1>)"
      ]
     },
     "execution_count": 86,
     "metadata": {},
     "output_type": "execute_result"
    }
   ],
   "source": [
    "element_wise.sum(-1).sum(-1)"
   ]
  },
  {
   "cell_type": "code",
   "execution_count": 87,
   "metadata": {},
   "outputs": [
    {
     "data": {
      "text/plain": [
       "torch.Size([37])"
      ]
     },
     "execution_count": 87,
     "metadata": {},
     "output_type": "execute_result"
    }
   ],
   "source": [
    "masked_data.sum(-1).sum(-1).shape"
   ]
  },
  {
   "cell_type": "code",
   "execution_count": 88,
   "metadata": {},
   "outputs": [
    {
     "ename": "RuntimeError",
     "evalue": "The expanded size of the tensor (0) must match the existing size (129) at non-singleton dimension 1.  Target sizes: [37, 0].  Tensor sizes: [1, 129]",
     "output_type": "error",
     "traceback": [
      "\u001b[0;31m---------------------------------------------------------------------------\u001b[0m",
      "\u001b[0;31mRuntimeError\u001b[0m                              Traceback (most recent call last)",
      "\u001b[1;32m/Users/fedra/Desktop/re-SIN-for-NSSM/model.ipynb Cell 36\u001b[0m line \u001b[0;36m1\n\u001b[0;32m----> <a href='vscode-notebook-cell:/Users/fedra/Desktop/re-SIN-for-NSSM/model.ipynb#X52sZmlsZQ%3D%3D?line=0'>1</a>\u001b[0m torch\u001b[39m.\u001b[39;49marange(\u001b[39m129\u001b[39;49m)\u001b[39m.\u001b[39;49munsqueeze(\u001b[39m0\u001b[39;49m)\u001b[39m.\u001b[39;49mexpand(element_wise\u001b[39m.\u001b[39;49mshape[\u001b[39m0\u001b[39;49m], \u001b[39m0\u001b[39;49m)\u001b[39m.\u001b[39mshape\n",
      "\u001b[0;31mRuntimeError\u001b[0m: The expanded size of the tensor (0) must match the existing size (129) at non-singleton dimension 1.  Target sizes: [37, 0].  Tensor sizes: [1, 129]"
     ]
    }
   ],
   "source": [
    "torch.arange(129).unsqueeze(0).expand(element_wise.shape[0], 0).shape"
   ]
  },
  {
   "cell_type": "code",
   "execution_count": 91,
   "metadata": {},
   "outputs": [
    {
     "data": {
      "text/plain": [
       "tensor(0.0254, grad_fn=<MeanBackward0>)"
      ]
     },
     "execution_count": 91,
     "metadata": {},
     "output_type": "execute_result"
    }
   ],
   "source": [
    "masked_data.mean()"
   ]
  },
  {
   "cell_type": "code",
   "execution_count": null,
   "metadata": {},
   "outputs": [],
   "source": []
  }
 ],
 "metadata": {
  "kernelspec": {
   "display_name": "Python 3",
   "language": "python",
   "name": "python3"
  },
  "language_info": {
   "codemirror_mode": {
    "name": "ipython",
    "version": 3
   },
   "file_extension": ".py",
   "mimetype": "text/x-python",
   "name": "python",
   "nbconvert_exporter": "python",
   "pygments_lexer": "ipython3",
   "version": "3.9.6"
  },
  "orig_nbformat": 4
 },
 "nbformat": 4,
 "nbformat_minor": 2
}
