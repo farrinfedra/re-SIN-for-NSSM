{
 "cells": [
  {
   "cell_type": "code",
   "execution_count": 1,
   "metadata": {},
   "outputs": [],
   "source": [
    "\n",
    "import torch\n",
    "import torch.nn.functional as F"
   ]
  },
  {
   "cell_type": "code",
   "execution_count": 2,
   "metadata": {},
   "outputs": [
    {
     "name": "stdout",
     "output_type": "stream",
     "text": [
      "out.shape: torch.Size([1, 129, 800])\n",
      "hidden.shape: torch.Size([2, 1, 400])\n",
      "h_left.shape: torch.Size([1, 129, 400])\n",
      "h_right.shape: torch.Size([1, 129, 400])\n"
     ]
    }
   ],
   "source": [
    "a = torch.randn(1, 129, 88)\n",
    "input_size = a.shape[2]\n",
    "input_size = 88\n",
    "hidden_size = 400\n",
    "\n",
    "rnn = torch.nn.RNN(input_size=input_size, hidden_size=hidden_size, bidirectional=True, batch_first=True)\n",
    "out, hidden = rnn(a) # out: [1, 129, 800], hidden: [2, 1, 400]\n",
    "print(f'out.shape: {out.shape}')\n",
    "print(f'hidden.shape: {hidden.shape}')\n",
    "h_left = out[:, :, :hidden_size]\n",
    "h_right = out[:, :, hidden_size:]\n",
    "\n",
    "print(f'h_left.shape: {h_left.shape}')\n",
    "print(f'h_right.shape: {h_right.shape}')\n"
   ]
  },
  {
   "cell_type": "code",
   "execution_count": 3,
   "metadata": {},
   "outputs": [],
   "source": [
    "z_0 = torch.randn(1, 1, 100)"
   ]
  },
  {
   "cell_type": "code",
   "execution_count": 4,
   "metadata": {},
   "outputs": [
    {
     "name": "stdout",
     "output_type": "stream",
     "text": [
      "h_combined.shape: torch.Size([1, 129, 400])\n"
     ]
    }
   ],
   "source": [
    "combiner = torch.nn.Linear(100, 400)\n",
    "h_combined = combiner(z_0)\n",
    "h_combined = .5 * (F.tanh(h_combined) + h_right)\n",
    "print(f'h_combined.shape: {h_combined.shape}')"
   ]
  },
  {
   "cell_type": "code",
   "execution_count": 5,
   "metadata": {},
   "outputs": [],
   "source": [
    "def softplus(x):\n",
    "    return torch.log(1 + torch.exp(x))"
   ]
  },
  {
   "cell_type": "code",
   "execution_count": 6,
   "metadata": {},
   "outputs": [
    {
     "name": "stdout",
     "output_type": "stream",
     "text": [
      "mu.shape: torch.Size([1, 129, 100])\n",
      "sigma.shape: torch.Size([1, 129, 100])\n"
     ]
    }
   ],
   "source": [
    "mu_linear = torch.nn.Linear(400, 100)\n",
    "sigma_linear = torch.nn.Linear(400, 100)\n",
    "\n",
    "mu = mu_linear(h_combined)\n",
    "sigma = softplus(sigma_linear(h_combined))\n",
    "\n",
    "print(f'mu.shape: {mu.shape}')\n",
    "print(f'sigma.shape: {sigma.shape}')    \n"
   ]
  },
  {
   "cell_type": "code",
   "execution_count": 7,
   "metadata": {},
   "outputs": [],
   "source": [
    "z_1 = mu + sigma * torch.randn_like(mu)\n"
   ]
  },
  {
   "cell_type": "code",
   "execution_count": 8,
   "metadata": {},
   "outputs": [],
   "source": [
    "#emission function\n",
    "emission = torch.nn.Sequential(\n",
    "    torch.nn.Linear(100, 100),\n",
    "    torch.nn.ReLU(),\n",
    "    torch.nn.Linear(100, 100),\n",
    "    torch.nn.ReLU(),\n",
    "    torch.nn.Linear(100, 88),\n",
    "    torch.nn.Sigmoid()\n",
    ")\n",
    "\n",
    "#transition function\n",
    "G = torch.nn.Sequential(\n",
    "    torch.nn.Linear(100, 200), #gating unit\n",
    "    torch.nn.ReLU(),\n",
    "    torch.nn.Linear(200, 100), #proposed mean\n",
    "    torch.nn.Sigmoid()\n",
    ")\n",
    "\n",
    "H = torch.nn.Sequential(\n",
    "    torch.nn.Linear(100, 200), #proposed mean\n",
    "    torch.nn.ReLU(),\n",
    "    torch.nn.Linear(200, 100), #proposed mean\n",
    "    torch.nn.Identity(),\n",
    ")\n",
    "\n",
    "mu_gated_linear = torch.nn.Linear(100, 100) #w_{mu_p} * z_{t-1} + b_{mu_p}\n",
    "sigma_gated_linear = torch.nn.Sequential( #w_{sigma_p} * relu(h_t) + b_{sigma_p}\n",
    "    torch.nn.ReLU(),\n",
    "    torch.nn.Linear(100, 100),\n",
    "    torch.nn.Softplus(),\n",
    ")\n",
    "    \n",
    "\n",
    "\n"
   ]
  },
  {
   "cell_type": "code",
   "execution_count": 9,
   "metadata": {},
   "outputs": [
    {
     "data": {
      "text/plain": [
       "torch.Size([1, 129, 88])"
      ]
     },
     "execution_count": 9,
     "metadata": {},
     "output_type": "execute_result"
    }
   ],
   "source": [
    "emission(z_1).shape"
   ]
  },
  {
   "cell_type": "code",
   "execution_count": 10,
   "metadata": {},
   "outputs": [
    {
     "name": "stdout",
     "output_type": "stream",
     "text": [
      "out.shape: torch.Size([1, 1, 100])\n",
      "sigma_generator.shape: torch.Size([1, 1, 100])\n"
     ]
    }
   ],
   "source": [
    "#forward pass of transition function\n",
    "z_0 = torch.zeros(1, 1, 100)\n",
    "g_out = G(z_0)\n",
    "one_minus_g = 1 - g_out # 1 - g\n",
    "mu_linear_out = mu_gated_linear(z_0) #w_{mu_p} * z_{t-1} + b_{mu_p}\n",
    "elementwise_mu_out = mu_linear_out * one_minus_g\n",
    "proposed_mean_out = H(z_0)\n",
    "mu_generator = (proposed_mean_out * g_out) + elementwise_mu_out\n",
    "\n",
    "sigma_generator = sigma_gated_linear(proposed_mean_out)\n",
    "\n",
    "\n",
    "print(f'out.shape: {one_minus_g.shape}')\n",
    "print(f'sigma_generator.shape: {sigma_generator.shape}')"
   ]
  },
  {
   "cell_type": "code",
   "execution_count": 11,
   "metadata": {},
   "outputs": [],
   "source": [
    "z_1 = mu_generator + sigma_generator * torch.randn_like(mu_generator)"
   ]
  },
  {
   "cell_type": "code",
   "execution_count": 12,
   "metadata": {},
   "outputs": [],
   "source": [
    "from model import DVAE\n",
    "\n",
    "import torch\n",
    "import torch.nn.functional as F"
   ]
  },
  {
   "cell_type": "code",
   "execution_count": 13,
   "metadata": {},
   "outputs": [],
   "source": [
    "model = DVAE()"
   ]
  },
  {
   "cell_type": "code",
   "execution_count": 14,
   "metadata": {},
   "outputs": [],
   "source": [
    "x = torch.randn(3, 129, 88)"
   ]
  },
  {
   "cell_type": "code",
   "execution_count": 15,
   "metadata": {},
   "outputs": [],
   "source": [
    "x_hat, mus_p_z, sigmas_p_z, mus_generator, sigmas_generators = model(x)"
   ]
  },
  {
   "cell_type": "code",
   "execution_count": 26,
   "metadata": {},
   "outputs": [],
   "source": [
    "def kl_normal(qm, qv, pm, pv):\n",
    "    \"\"\"\n",
    "    Computes the elem-wise KL divergence between two normal distributions KL(q || p) and\n",
    "    sum over the last dimension\n",
    "\n",
    "    Args:\n",
    "        qm: tensor: (batch, dim): q mean\n",
    "        qv: tensor: (batch, dim): q variance\n",
    "        pm: tensor: (batch, dim): p mean\n",
    "        pv: tensor: (batch, dim): p variance\n",
    "\n",
    "    Return:\n",
    "        kl: tensor: (batch,): kl between each sample\n",
    "    \"\"\"\n",
    "    \n",
    "    element_wise = 0.5 * (torch.log(pv) - torch.log(qv) + qv / pv + (qm - pm).pow(2) / pv - 1)\n",
    "    print(f'element_wise.shape: {element_wise.shape}')\n",
    "    kl = element_wise.sum(-1)\n",
    "    return kl"
   ]
  },
  {
   "cell_type": "code",
   "execution_count": 27,
   "metadata": {},
   "outputs": [
    {
     "name": "stdout",
     "output_type": "stream",
     "text": [
      "x_hat.shape: torch.Size([3, 129, 88])\n",
      "mus_p_z.shape: torch.Size([3, 129, 100])\n",
      "sigmas_p_z.shape: torch.Size([3, 129, 100])\n",
      "mus_generator.shape: torch.Size([3, 129, 100])\n",
      "sigmas_generators.shape: torch.Size([3, 129, 100])\n"
     ]
    }
   ],
   "source": [
    "print(f'x_hat.shape: {x_hat.shape}')\n",
    "print(f'mus_p_z.shape: {mus_p_z.shape}')\n",
    "print(f'sigmas_p_z.shape: {sigmas_p_z.shape}')\n",
    "print(f'mus_generator.shape: {mus_generator.shape}')\n",
    "print(f'sigmas_generators.shape: {sigmas_generators.shape}')\n"
   ]
  },
  {
   "cell_type": "code",
   "execution_count": 28,
   "metadata": {},
   "outputs": [
    {
     "name": "stdout",
     "output_type": "stream",
     "text": [
      "mu_z_1.shape: torch.Size([3, 100])\n",
      "sigma_z_1.shape: torch.Size([3, 100])\n",
      "mus_generator_1.shape: torch.Size([3, 100])\n",
      "sigmas_generator_1.shape: torch.Size([3, 100])\n",
      "element_wise.shape: torch.Size([3, 100])\n",
      "single_kl: tensor([3.3891, 3.3859, 3.2899], grad_fn=<SumBackward1>)\n"
     ]
    }
   ],
   "source": [
    "mu_z_1 = mus_p_z[:, 0, :]\n",
    "sigma_z_1 = sigmas_p_z[:, 0, :]\n",
    "print(f'mu_z_1.shape: {mu_z_1.shape}')\n",
    "print(f'sigma_z_1.shape: {sigma_z_1.shape}')\n",
    "\n",
    "mus_generator_1 = mus_generator[:, 0, :]\n",
    "sigmas_generator_1 = sigmas_generators[:, 0, :]\n",
    "print(f'mus_generator_1.shape: {mus_generator_1.shape}')\n",
    "print(f'sigmas_generator_1.shape: {sigmas_generator_1.shape}')\n",
    "\n",
    "single_kl = kl_normal(mu_z_1,\n",
    "          sigma_z_1,\n",
    "          mus_generator_1,\n",
    "          sigmas_generator_1,\n",
    "          )\n",
    "\n",
    "print(f'single_kl: {single_kl}')"
   ]
  },
  {
   "cell_type": "code",
   "execution_count": 15,
   "metadata": {},
   "outputs": [],
   "source": []
  },
  {
   "cell_type": "code",
   "execution_count": 16,
   "metadata": {},
   "outputs": [],
   "source": [
    "bce = torch.nn.BCEWithLogitsLoss(reduction='none')\n",
    "def log_bernoulli_with_logits(x, logits):\n",
    "    \"\"\"\n",
    "    Computes the log probability of a Bernoulli given its logits\n",
    "\n",
    "    Args:\n",
    "        x: tensor: (batch, dim): Observation\n",
    "        logits: tensor: (batch, dim): Bernoulli logits\n",
    "\n",
    "    Return:\n",
    "        log_prob: tensor: (batch,): log probability of each sample\n",
    "    \"\"\"\n",
    "    log_prob = -bce(input=logits, target=x).sum(-1).sum(-1) #TODO: check if suming over t is correct\n",
    "    return log_prob"
   ]
  },
  {
   "cell_type": "code",
   "execution_count": 21,
   "metadata": {},
   "outputs": [],
   "source": [
    "recon_loss = -log_bernoulli_with_logits(x_hat, x)"
   ]
  },
  {
   "cell_type": "code",
   "execution_count": 22,
   "metadata": {},
   "outputs": [],
   "source": [
    "#KL(q, p) for t=2 to T\n",
    "\n",
    "kl_q_p_2 = kl_normal(mus_generator[:, 1:, :],\n",
    "          sigmas_generators[:, 1:, :],\n",
    "          mus_p_z[:, 1:, :],\n",
    "          sigmas_p_z[:, 1:, :])"
   ]
  },
  {
   "cell_type": "code",
   "execution_count": 23,
   "metadata": {},
   "outputs": [
    {
     "data": {
      "text/plain": [
       "torch.Size([3])"
      ]
     },
     "execution_count": 23,
     "metadata": {},
     "output_type": "execute_result"
    }
   ],
   "source": [
    "kl_q_p_2.sum(-1).shape"
   ]
  },
  {
   "cell_type": "code",
   "execution_count": 24,
   "metadata": {},
   "outputs": [
    {
     "data": {
      "text/plain": [
       "tensor([3.3891, 3.3859, 3.2899], grad_fn=<SumBackward1>)"
      ]
     },
     "execution_count": 24,
     "metadata": {},
     "output_type": "execute_result"
    }
   ],
   "source": [
    "single_kl"
   ]
  },
  {
   "cell_type": "code",
   "execution_count": 25,
   "metadata": {},
   "outputs": [],
   "source": [
    "nelbo_loss = recon_loss.mean() + kl_q_p_2.sum(-1).mean() + single_kl.mean()"
   ]
  },
  {
   "cell_type": "code",
   "execution_count": 1,
   "metadata": {},
   "outputs": [
    {
     "name": "stderr",
     "output_type": "stream",
     "text": [
      "/Users/fedra/Library/Python/3.9/lib/python/site-packages/urllib3/__init__.py:34: NotOpenSSLWarning: urllib3 v2.0 only supports OpenSSL 1.1.1+, currently the 'ssl' module is compiled with 'LibreSSL 2.8.3'. See: https://github.com/urllib3/urllib3/issues/3020\n",
      "  warnings.warn(\n"
     ]
    }
   ],
   "source": [
    "from omegaconf import OmegaConf\n",
    "import argparse\n",
    "import os\n",
    "import torch\n",
    "from omegaconf import OmegaConf\n",
    "from torch.utils.data import DataLoader\n",
    "import wandb\n",
    "\n",
    "from dataloader import MusicDataset\n",
    "from model import DVAE "
   ]
  },
  {
   "cell_type": "code",
   "execution_count": 2,
   "metadata": {},
   "outputs": [],
   "source": [
    "path = 'config.yaml'\n",
    "\n",
    "config = OmegaConf.load(path)"
   ]
  },
  {
   "cell_type": "code",
   "execution_count": 80,
   "metadata": {},
   "outputs": [
    {
     "name": "stderr",
     "output_type": "stream",
     "text": [
      "/Users/fedra/Library/Python/3.9/lib/python/site-packages/urllib3/__init__.py:34: NotOpenSSLWarning: urllib3 v2.0 only supports OpenSSL 1.1.1+, currently the 'ssl' module is compiled with 'LibreSSL 2.8.3'. See: https://github.com/urllib3/urllib3/issues/3020\n",
      "  warnings.warn(\n",
      "/Users/fedra/Library/Python/3.9/lib/python/site-packages/urllib3/__init__.py:34: NotOpenSSLWarning: urllib3 v2.0 only supports OpenSSL 1.1.1+, currently the 'ssl' module is compiled with 'LibreSSL 2.8.3'. See: https://github.com/urllib3/urllib3/issues/3020\n",
      "  warnings.warn(\n",
      "/Users/fedra/Library/Python/3.9/lib/python/site-packages/urllib3/__init__.py:34: NotOpenSSLWarning: urllib3 v2.0 only supports OpenSSL 1.1.1+, currently the 'ssl' module is compiled with 'LibreSSL 2.8.3'. See: https://github.com/urllib3/urllib3/issues/3020\n",
      "  warnings.warn(\n",
      "/Users/fedra/Library/Python/3.9/lib/python/site-packages/urllib3/__init__.py:34: NotOpenSSLWarning: urllib3 v2.0 only supports OpenSSL 1.1.1+, currently the 'ssl' module is compiled with 'LibreSSL 2.8.3'. See: https://github.com/urllib3/urllib3/issues/3020\n",
      "  warnings.warn(\n"
     ]
    },
    {
     "name": "stdout",
     "output_type": "stream",
     "text": [
      "encodings.shape: torch.Size([64, 129, 88])masks.shape: torch.Size([64, 129, 88])sequence_lengths.shape: torch.Size([64])\n",
      "encodings.shape: torch.Size([64, 129, 88])masks.shape: torch.Size([64, 129, 88])sequence_lengths.shape: torch.Size([64])\n",
      "encodings.shape: torch.Size([64, 129, 88])masks.shape: torch.Size([64, 129, 88])sequence_lengths.shape: torch.Size([64])\n",
      "encodings.shape: torch.Size([37, 129, 88])masks.shape: torch.Size([37, 129, 88])sequence_lengths.shape: torch.Size([37])\n"
     ]
    }
   ],
   "source": [
    "\n",
    "\n",
    "dataset = MusicDataset(config.dataset)\n",
    "dataloader = DataLoader(dataset, \n",
    "                        batch_size=config.train.batch_size, \n",
    "                        num_workers=config.train.num_workers,\n",
    "                        pin_memory=True, #important for speed\n",
    "                        shuffle=True)\n",
    "\n",
    "device = torch.device('mps')\n",
    "model = DVAE(input_dim=config.model.input_dim, \n",
    "                hidden_dim=config.model.hidden_dim,\n",
    "                hidden_dim_em=config.model.hidden_dim_em, \n",
    "                hidden_dim_tr=config.model.hidden_dim_tr, \n",
    "                latent_dim=config.model.latent_dim)\n",
    "model = model.to(device)\n",
    "\n",
    "    \n",
    "for i, (encodings, masks, sequence_lengths) in enumerate(dataloader):\n",
    "    print(f'encodings.shape: {encodings.shape}'\n",
    "          f'masks.shape: {masks.shape}'\n",
    "          f'sequence_lengths.shape: {sequence_lengths.shape}')\n",
    "    encodings = encodings.to(device)\n",
    "    masks = masks.to(device)\n",
    "#     sequence_lengths = sequence_lengths.to(device)\n",
    "    x_hat, mus_inference, sigmas_inference, mus_generator, sigmas_generators = model(encodings)\n",
    "    "
   ]
  },
  {
   "cell_type": "code",
   "execution_count": 81,
   "metadata": {},
   "outputs": [
    {
     "name": "stdout",
     "output_type": "stream",
     "text": [
      "x_hat.shape: torch.Size([37, 129, 88])\n",
      "mus_p_z.shape: torch.Size([37, 129, 100])\n",
      "sigmas_p_z.shape: torch.Size([37, 129, 100])\n",
      "mus_generator.shape: torch.Size([37, 129, 100])\n",
      "sigmas_generators.shape: torch.Size([37, 129, 100])\n"
     ]
    }
   ],
   "source": [
    "print(f'x_hat.shape: {x_hat.shape}')\n",
    "print(f'mus_p_z.shape: {mus_p_z.shape}')\n",
    "print(f'sigmas_p_z.shape: {sigmas_p_z.shape}')\n",
    "print(f'mus_generator.shape: {mus_generator.shape}')\n",
    "print(f'sigmas_generators.shape: {sigmas_generators.shape}')\n"
   ]
  },
  {
   "cell_type": "code",
   "execution_count": 82,
   "metadata": {},
   "outputs": [
    {
     "data": {
      "text/plain": [
       "torch.Size([37])"
      ]
     },
     "execution_count": 82,
     "metadata": {},
     "output_type": "execute_result"
    }
   ],
   "source": [
    "nll = log_bernoulli_with_logits(x_hat, encodings)\n",
    "nll.shape"
   ]
  },
  {
   "cell_type": "code",
   "execution_count": 89,
   "metadata": {},
   "outputs": [],
   "source": [
    "from einops import repeat, rearrange\n",
    "\"\"\"\n",
    "Computes the elem-wise KL divergence between two normal distributions KL(q || p) and\n",
    "sum over the last dimension\n",
    "\n",
    "Args:\n",
    "    qm: tensor: (batch, dim): q mean\n",
    "    qv: tensor: (batch, dim): q variance\n",
    "    pm: tensor: (batch, dim): p mean\n",
    "    pv: tensor: (batch, dim): p variance\n",
    "\n",
    "Return:\n",
    "    kl: tensor: (batch,): kl between each sample\n",
    "\"\"\"\n",
    "qm = mus_generator\n",
    "qv = sigmas_generators\n",
    "pm = mus_inference\n",
    "pv = sigmas_inference\n",
    "\n",
    "element_wise = 0.5 * (torch.log(pv) - torch.log(qv) + qv / pv + (qm - pm).pow(2) / pv - 1)\n",
    "\n",
    "# mask out the padding after sequence length for each datapoint\n",
    "bs, max_sequence_length, _ = element_wise.shape\n",
    "\n",
    "# range_tensor = torch.arange(max_sequence_length).unsqueeze(0).expand(bs, -1) # [seq] -> [1, seq] -> [bs, seq]\n",
    "range_tensor = repeat(torch.arange(max_sequence_length), 'l -> b l', b=bs)\n",
    "mask = range_tensor < rearrange(sequence_lengths, 'b -> b ()')\n",
    "mask = rearrange(mask, 'b s -> b s ()')\n",
    "\n",
    "kl = element_wise * mask.float()\n",
    "kl = kl.sum(-1).sum(-1)\n"
   ]
  },
  {
   "cell_type": "code",
   "execution_count": 90,
   "metadata": {},
   "outputs": [
    {
     "data": {
      "text/plain": [
       "tensor([331.7794, 266.6291, 338.7940, 557.3054, 342.6507, 294.0504, 210.3483,\n",
       "        312.8197, 206.9641, 351.0621, 393.5385, 220.3863, 390.0762, 332.5024,\n",
       "        316.4448, 252.5891, 388.6817, 252.5338, 220.5218, 227.8265, 318.9900,\n",
       "        253.6094, 248.2927, 326.3237, 251.7305, 544.0973, 342.0119, 448.8251,\n",
       "        339.1617, 365.9432, 439.4240, 345.9189, 341.5529, 244.7217, 345.5034,\n",
       "        320.2277, 427.1012], grad_fn=<SumBackward1>)"
      ]
     },
     "execution_count": 90,
     "metadata": {},
     "output_type": "execute_result"
    }
   ],
   "source": [
    "kl"
   ]
  },
  {
   "cell_type": "code",
   "execution_count": 85,
   "metadata": {},
   "outputs": [],
   "source": [
    "range_tensor = torch.arange(129).unsqueeze(0).expand(element_wise.shape[0], -1).to('cpu')\n",
    "\n",
    "# Create the mask: True for elements we want to keep, False for elements to be masked\n",
    "mask = range_tensor < sequence_lengths.unsqueeze(1).to('cpu')\n",
    "\n",
    "# Apply the mask to the data\n",
    "# You need to unsqueeze the mask to make its shape (batch_size, sequence_length, 1) so it broadcasts correctly over the feature dimension\n",
    "masked_data = element_wise * mask.unsqueeze(2).float()"
   ]
  },
  {
   "cell_type": "code",
   "execution_count": 86,
   "metadata": {},
   "outputs": [
    {
     "data": {
      "text/plain": [
       "tensor([703.9436, 710.7096, 704.5284, 673.8802, 701.5371, 705.6766, 693.5052,\n",
       "        696.0417, 708.2553, 719.8946, 676.9679, 706.6138, 710.3296, 703.0452,\n",
       "        697.2532, 714.9741, 686.5779, 712.7692, 731.7780, 722.0126, 721.5752,\n",
       "        678.3644, 711.3787, 705.0903, 693.5876, 665.4576, 686.4227, 665.4719,\n",
       "        704.4774, 688.3771, 707.5785, 695.1637, 714.8768, 700.8198, 694.5972,\n",
       "        691.2836, 700.0506], grad_fn=<SumBackward1>)"
      ]
     },
     "execution_count": 86,
     "metadata": {},
     "output_type": "execute_result"
    }
   ],
   "source": [
    "element_wise.sum(-1).sum(-1)"
   ]
  },
  {
   "cell_type": "code",
   "execution_count": 87,
   "metadata": {},
   "outputs": [
    {
     "data": {
      "text/plain": [
       "torch.Size([37])"
      ]
     },
     "execution_count": 87,
     "metadata": {},
     "output_type": "execute_result"
    }
   ],
   "source": [
    "masked_data.sum(-1).sum(-1).shape"
   ]
  },
  {
   "cell_type": "code",
   "execution_count": 88,
   "metadata": {},
   "outputs": [
    {
     "ename": "RuntimeError",
     "evalue": "The expanded size of the tensor (0) must match the existing size (129) at non-singleton dimension 1.  Target sizes: [37, 0].  Tensor sizes: [1, 129]",
     "output_type": "error",
     "traceback": [
      "\u001b[0;31m---------------------------------------------------------------------------\u001b[0m",
      "\u001b[0;31mRuntimeError\u001b[0m                              Traceback (most recent call last)",
      "\u001b[1;32m/Users/fedra/Desktop/re-SIN-for-NSSM/model.ipynb Cell 36\u001b[0m line \u001b[0;36m1\n\u001b[0;32m----> <a href='vscode-notebook-cell:/Users/fedra/Desktop/re-SIN-for-NSSM/model.ipynb#X52sZmlsZQ%3D%3D?line=0'>1</a>\u001b[0m torch\u001b[39m.\u001b[39;49marange(\u001b[39m129\u001b[39;49m)\u001b[39m.\u001b[39;49munsqueeze(\u001b[39m0\u001b[39;49m)\u001b[39m.\u001b[39;49mexpand(element_wise\u001b[39m.\u001b[39;49mshape[\u001b[39m0\u001b[39;49m], \u001b[39m0\u001b[39;49m)\u001b[39m.\u001b[39mshape\n",
      "\u001b[0;31mRuntimeError\u001b[0m: The expanded size of the tensor (0) must match the existing size (129) at non-singleton dimension 1.  Target sizes: [37, 0].  Tensor sizes: [1, 129]"
     ]
    }
   ],
   "source": [
    "torch.arange(129).unsqueeze(0).expand(element_wise.shape[0], 0).shape"
   ]
  },
  {
   "cell_type": "code",
   "execution_count": 91,
   "metadata": {},
   "outputs": [
    {
     "data": {
      "text/plain": [
       "tensor(0.0254, grad_fn=<MeanBackward0>)"
      ]
     },
     "execution_count": 91,
     "metadata": {},
     "output_type": "execute_result"
    }
   ],
   "source": [
    "masked_data.mean()"
   ]
  },
  {
   "cell_type": "code",
   "execution_count": null,
   "metadata": {},
   "outputs": [],
   "source": []
  }
 ],
 "metadata": {
  "kernelspec": {
   "display_name": "Python 3",
   "language": "python",
   "name": "python3"
  },
  "language_info": {
   "codemirror_mode": {
    "name": "ipython",
    "version": 3
   },
   "file_extension": ".py",
   "mimetype": "text/x-python",
   "name": "python",
   "nbconvert_exporter": "python",
   "pygments_lexer": "ipython3",
   "version": "3.9.6"
  },
  "orig_nbformat": 4
 },
 "nbformat": 4,
 "nbformat_minor": 2
}
