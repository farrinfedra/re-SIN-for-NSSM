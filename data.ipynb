{
 "cells": [
  {
   "cell_type": "code",
   "execution_count": 18,
   "metadata": {},
   "outputs": [],
   "source": [
    "#TO DOWNLOAD THE DATASET\n",
    "# jsb = \"https://d2hg8soec8ck9v.cloudfront.net/datasets/polyphonic/jsb_chorales.pickle\"\n",
    "# piano = \"https://d2hg8soec8ck9v.cloudfront.net/datasets/polyphonic/piano_midi.pickle\"\n",
    "# muse = \"https://d2hg8soec8ck9v.cloudfront.net/datasets/polyphonic/muse_data.pickle\"\n",
    "# nottingham = \"https://d2hg8soec8ck9v.cloudfront.net/datasets/polyphonic/nottingham.pickle\"\n",
    "\n",
    "# !wget $jsb\n",
    "# !wget $piano\n",
    "# !wget $muse\n",
    "# !wget $nottingham"
   ]
  },
  {
   "cell_type": "code",
   "execution_count": 1,
   "metadata": {},
   "outputs": [],
   "source": [
    "import pickle\n",
    "import numpy as np\n",
    "from torch.utils.data import Dataset\n",
    "import torch"
   ]
  },
  {
   "cell_type": "code",
   "execution_count": 44,
   "metadata": {},
   "outputs": [],
   "source": [
    "class MusicDataset(Dataset):\n",
    "    def __init__(self, path, max_note=88, min_note=21, split='train'):\n",
    "        self.max_note = max_note\n",
    "        self.min_note = min_note\n",
    "        self.path = path\n",
    "        self.data = self.load_process_data(self.path, max_note=self.max_note, min_note=self.min_note, split=split)\n",
    "        self.split = split\n",
    "        self.sequence_lengths = self.data['sequence_lengths']\n",
    "        self.encodings = self.data['encodings']\n",
    "    \n",
    "    def read_pickle_from_url(self, path, split='train'):\n",
    "        with open(path, 'rb') as file:\n",
    "            data = pickle.load(file)\n",
    "        return data\n",
    "\n",
    "\n",
    "    def load_process_data(self, path, max_note=88, min_note=21, split='train'):\n",
    "        data_dict = {}\n",
    "        encodings = []\n",
    "        sequence_lengths = []\n",
    "        \n",
    "        data = self.read_pickle_from_url(path) #229 music data\n",
    "        tr_data = data[split]\n",
    "        \n",
    "        for i, music in enumerate(tr_data):\n",
    "            one_hot_music = torch.zeros((len(music), max_note))\n",
    "            # print(one_hot_music.shape)\n",
    "            for j, keys in enumerate(music): #the tuples\n",
    "                # print(keys)\n",
    "                one_hot_vector = [0] * max_note\n",
    "                if len(keys) == 0:\n",
    "                    continue\n",
    "                for key in keys:\n",
    "                    key = key - 21\n",
    "                    one_hot_vector[key] = 1\n",
    "                one_hot_music[j,:] = torch.tensor(one_hot_vector)\n",
    "            \n",
    "            encodings.append(one_hot_music)\n",
    "            # print(one_hot_music)\n",
    "            sequence_lengths.append(len(one_hot_music))\n",
    "            \n",
    "        data_dict['encodings'] = encodings\n",
    "        data_dict['sequence_lengths'] = torch.tensor(sequence_lengths, dtype=torch.long)\n",
    "        \n",
    "        return data_dict\n",
    "        \n",
    "    def __getitem__(self, index):\n",
    "        return self.encodings[index], self.sequence_lengths[index]\n",
    "        #encodings dim: (1, seq_len, 88)\n",
    "    def __len__(self):\n",
    "        return len(self.encodings)"
   ]
  },
  {
   "cell_type": "code",
   "execution_count": 20,
   "metadata": {},
   "outputs": [],
   "source": [
    "# processed_dataset = {}\n",
    "# for split, data_split in data.items():\n",
    "#     processed_dataset[split] = {}\n",
    "#     n_seqs = len(data_split)\n",
    "#     processed_dataset[split]['sequence_lengths'] = torch.zeros(n_seqs, dtype=torch.long)\n",
    "#     processed_dataset[split]['sequences'] = []\n",
    "#     for seq in range(n_seqs):\n",
    "#         seq_length = len(data_split[seq])\n",
    "#         processed_dataset[split]['sequence_lengths'][seq] = seq_length\n",
    "#         processed_sequence = torch.zeros((seq_length, note_range))\n",
    "#         for t in range(seq_length):\n",
    "#             note_slice = torch.tensor(list(data_split[seq][t])) - min_note\n",
    "#             slice_length = len(note_slice)\n",
    "#             if slice_length > 0:\n",
    "#                 processed_sequence[t, note_slice] = torch.ones(slice_length)\n",
    "#         processed_dataset[split]['sequences'].append(processed_sequence)\n",
    "# pickle.dump(processed_dataset, open(output, \"wb\"), pickle.HIGHEST_PROTOCOL)\n",
    "# print(\"dumped processed data to %s\" % output)"
   ]
  },
  {
   "cell_type": "code",
   "execution_count": 23,
   "metadata": {},
   "outputs": [],
   "source": [
    "from torch.utils.data import DataLoader\n",
    "dataset = MusicDataset(path='data/jsb_chorales.pickle', split='train')\n",
    "dataloader = DataLoader(dataset, batch_size=1, shuffle=False)"
   ]
  },
  {
   "cell_type": "code",
   "execution_count": 43,
   "metadata": {},
   "outputs": [
    {
     "name": "stdout",
     "output_type": "stream",
     "text": [
      "torch.Size([1, 129, 88])\n",
      "tensor([[[0., 0., 0.,  ..., 0., 0., 0.],\n",
      "         [0., 0., 0.,  ..., 0., 0., 0.],\n",
      "         [0., 0., 0.,  ..., 0., 0., 0.],\n",
      "         ...,\n",
      "         [0., 0., 0.,  ..., 0., 0., 0.],\n",
      "         [0., 0., 0.,  ..., 0., 0., 0.],\n",
      "         [0., 0., 0.,  ..., 0., 0., 0.]]])\n",
      "tensor([129])\n"
     ]
    }
   ],
   "source": [
    "for i, (encodings, sequence_lengths) in enumerate(dataloader):\n",
    "    print(encodings.shape)\n",
    "    print(encodings)\n",
    "    print(sequence_lengths)\n",
    "    break\n"
   ]
  },
  {
   "cell_type": "code",
   "execution_count": null,
   "metadata": {},
   "outputs": [],
   "source": []
  }
 ],
 "metadata": {
  "kernelspec": {
   "display_name": "Python 3",
   "language": "python",
   "name": "python3"
  },
  "language_info": {
   "codemirror_mode": {
    "name": "ipython",
    "version": 3
   },
   "file_extension": ".py",
   "mimetype": "text/x-python",
   "name": "python",
   "nbconvert_exporter": "python",
   "pygments_lexer": "ipython3",
   "version": "3.9.6"
  },
  "orig_nbformat": 4
 },
 "nbformat": 4,
 "nbformat_minor": 2
}
