{
 "cells": [
  {
   "cell_type": "code",
   "execution_count": 19,
   "metadata": {},
   "outputs": [],
   "source": [
    "import pickle\n",
    "import numpy as np\n",
    "from torch.utils.data import Dataset\n",
    "import torch"
   ]
  },
  {
   "cell_type": "code",
   "execution_count": 20,
   "metadata": {},
   "outputs": [
    {
     "ename": "SyntaxError",
     "evalue": "invalid syntax (3510063071.py, line 27)",
     "output_type": "error",
     "traceback": [
      "\u001b[0;36m  Cell \u001b[0;32mIn[20], line 27\u001b[0;36m\u001b[0m\n\u001b[0;31m    print(one_hot_music.)\u001b[0m\n\u001b[0m                        ^\u001b[0m\n\u001b[0;31mSyntaxError\u001b[0m\u001b[0;31m:\u001b[0m invalid syntax\n"
     ]
    }
   ],
   "source": [
    "class MusicDataset(Dataset):\n",
    "    def __init__(self, path, max_note=88, min_note=21, split='train'):\n",
    "        self.max_note = max_note\n",
    "        self.min_note = min_note\n",
    "        self.path = path\n",
    "        self.data = self.load_process_data(self.path, max_note=self.max_note, min_note=self.min_note, split=split)\n",
    "        self.split = split\n",
    "        self.sequence_lengths = self.data['sequence_lengths']\n",
    "        self.encodings = self.data['encodings']\n",
    "    \n",
    "    def read_pickle_from_url(self, path, split='train'):\n",
    "        with open(path, 'rb') as file:\n",
    "            data = pickle.load(file)\n",
    "        return data\n",
    "\n",
    "\n",
    "    def load_process_data(self, path, max_note=88, min_note=21, split='train'):\n",
    "        data_dict = {}\n",
    "        encodings = []\n",
    "        sequence_lengths = []\n",
    "        \n",
    "        data = self.read_pickle_from_url(path) #229 music data\n",
    "        tr_data = data[split]\n",
    "        \n",
    "        for i, music in enumerate(tr_data):\n",
    "            one_hot_music = torch.zeros((len(music), max_note))\n",
    "            print(one_hot_music.shape)\n",
    "            for j, keys in enumerate(music): #the tuples\n",
    "                print(keys)\n",
    "                one_hot_vector = [0] * max_note\n",
    "                if len(keys) == 0:\n",
    "                    continue\n",
    "                for key in keys:\n",
    "                    key = key - 21\n",
    "                    one_hot_vector[key] = 1\n",
    "                one_hot_music.append(one_hot_vector)\n",
    "            encodings.append(one_hot_music)\n",
    "            sequence_lengths.append(len(one_hot_music))\n",
    "            \n",
    "        data_dict['encodings'] = torch.tensor(encodings)\n",
    "        data_dict['sequence_lengths'] = torch.tensor(sequence_lengths)\n",
    "        \n",
    "        return data_dict\n",
    "        \n",
    "    def __getitem__(self, index):\n",
    "        return self.encodings[index], self.sequence_lengths[index]\n",
    "    \n",
    "    def __len__(self):\n",
    "        return len(self.encodings)"
   ]
  },
  {
   "cell_type": "code",
   "execution_count": null,
   "metadata": {},
   "outputs": [],
   "source": [
    "# jsb = \"https://d2hg8soec8ck9v.cloudfront.net/datasets/polyphonic/jsb_chorales.pickle\"\n",
    "# piano = \"https://d2hg8soec8ck9v.cloudfront.net/datasets/polyphonic/piano_midi.pickle\"\n",
    "# muse = \"https://d2hg8soec8ck9v.cloudfront.net/datasets/polyphonic/muse_data.pickle\"\n",
    "# nottingham = \"https://d2hg8soec8ck9v.cloudfront.net/datasets/polyphonic/nottingham.pickle\"\n",
    "\n",
    "# !wget $jsb\n",
    "# !wget $piano\n",
    "# !wget $muse\n",
    "# !wget $nottingham"
   ]
  },
  {
   "cell_type": "code",
   "execution_count": 18,
   "metadata": {},
   "outputs": [
    {
     "ename": "NameError",
     "evalue": "name 'dataset' is not defined",
     "output_type": "error",
     "traceback": [
      "\u001b[0;31m---------------------------------------------------------------------------\u001b[0m",
      "\u001b[0;31mNameError\u001b[0m                                 Traceback (most recent call last)",
      "\u001b[1;32m/Users/fedra/Desktop/re-SIN-for-NSSM/data.ipynb Cell 4\u001b[0m line \u001b[0;36m1\n\u001b[0;32m----> <a href='vscode-notebook-cell:/Users/fedra/Desktop/re-SIN-for-NSSM/data.ipynb#X32sZmlsZQ%3D%3D?line=0'>1</a>\u001b[0m data \u001b[39m=\u001b[39m dataset\u001b[39m.\u001b[39mload_process_data(path\u001b[39m=\u001b[39m\u001b[39m'\u001b[39m\u001b[39mdata/jsb_chorales.pickle\u001b[39m\u001b[39m'\u001b[39m)\n",
      "\u001b[0;31mNameError\u001b[0m: name 'dataset' is not defined"
     ]
    }
   ],
   "source": [
    "data = dataset.load_process_data(path='data/jsb_chorales.pickle')"
   ]
  },
  {
   "cell_type": "code",
   "execution_count": null,
   "metadata": {},
   "outputs": [],
   "source": [
    "processed_dataset = {}\n",
    "for split, data_split in data.items():\n",
    "    processed_dataset[split] = {}\n",
    "    n_seqs = len(data_split)\n",
    "    processed_dataset[split]['sequence_lengths'] = torch.zeros(n_seqs, dtype=torch.long)\n",
    "    processed_dataset[split]['sequences'] = []\n",
    "    for seq in range(n_seqs):\n",
    "        seq_length = len(data_split[seq])\n",
    "        processed_dataset[split]['sequence_lengths'][seq] = seq_length\n",
    "        processed_sequence = torch.zeros((seq_length, note_range))\n",
    "        for t in range(seq_length):\n",
    "            note_slice = torch.tensor(list(data_split[seq][t])) - min_note\n",
    "            slice_length = len(note_slice)\n",
    "            if slice_length > 0:\n",
    "                processed_sequence[t, note_slice] = torch.ones(slice_length)\n",
    "        processed_dataset[split]['sequences'].append(processed_sequence)\n",
    "pickle.dump(processed_dataset, open(output, \"wb\"), pickle.HIGHEST_PROTOCOL)\n",
    "print(\"dumped processed data to %s\" % output)"
   ]
  },
  {
   "cell_type": "code",
   "execution_count": null,
   "metadata": {},
   "outputs": [],
   "source": [
    "processed_dataset['train']['sequences'][0].shape"
   ]
  },
  {
   "cell_type": "code",
   "execution_count": null,
   "metadata": {},
   "outputs": [],
   "source": [
    "#read pickel file\n"
   ]
  },
  {
   "cell_type": "code",
   "execution_count": null,
   "metadata": {},
   "outputs": [],
   "source": [
    "from torch.utils.data import DataLoader\n",
    "dataset = MusicDataset(path='data/jsb_chorales.pickle', split='train')\n",
    "dataloader = DataLoader(dataset, batch_size=1, shuffle=False)"
   ]
  },
  {
   "cell_type": "code",
   "execution_count": null,
   "metadata": {},
   "outputs": [
    {
     "name": "stdout",
     "output_type": "stream",
     "text": [
      "torch.Size([1, 88])\n",
      "torch.Size([1, 88])\n"
     ]
    }
   ],
   "source": [
    "for i, data in enumerate(dataloader):\n",
    "    print(data[0].shape)\n",
    "    if i == 1\n",
    "        break\n",
    "    "
   ]
  },
  {
   "cell_type": "code",
   "execution_count": null,
   "metadata": {},
   "outputs": [
    {
     "ename": "ValueError",
     "evalue": "not enough values to unpack (expected 3, got 2)",
     "output_type": "error",
     "traceback": [
      "\u001b[0;31m---------------------------------------------------------------------------\u001b[0m",
      "\u001b[0;31mValueError\u001b[0m                                Traceback (most recent call last)",
      "\u001b[1;32m/Users/fedra/Desktop/re-SIN-for-NSSM/data.ipynb Cell 8\u001b[0m line \u001b[0;36m1\n\u001b[0;32m----> <a href='vscode-notebook-cell:/Users/fedra/Desktop/re-SIN-for-NSSM/data.ipynb#X20sZmlsZQ%3D%3D?line=0'>1</a>\u001b[0m \u001b[39mfor\u001b[39;00m i, encodings, sequence_lengths \u001b[39min\u001b[39;00m \u001b[39menumerate\u001b[39m(dataset):\n\u001b[1;32m      <a href='vscode-notebook-cell:/Users/fedra/Desktop/re-SIN-for-NSSM/data.ipynb#X20sZmlsZQ%3D%3D?line=1'>2</a>\u001b[0m     \u001b[39mprint\u001b[39m(encodings)\n\u001b[1;32m      <a href='vscode-notebook-cell:/Users/fedra/Desktop/re-SIN-for-NSSM/data.ipynb#X20sZmlsZQ%3D%3D?line=2'>3</a>\u001b[0m     \u001b[39mprint\u001b[39m(sequence_lengths)\n",
      "\u001b[0;31mValueError\u001b[0m: not enough values to unpack (expected 3, got 2)"
     ]
    }
   ],
   "source": []
  },
  {
   "cell_type": "code",
   "execution_count": null,
   "metadata": {},
   "outputs": [],
   "source": []
  }
 ],
 "metadata": {
  "kernelspec": {
   "display_name": "Python 3",
   "language": "python",
   "name": "python3"
  },
  "language_info": {
   "codemirror_mode": {
    "name": "ipython",
    "version": 3
   },
   "file_extension": ".py",
   "mimetype": "text/x-python",
   "name": "python",
   "nbconvert_exporter": "python",
   "pygments_lexer": "ipython3",
   "version": "3.9.6"
  },
  "orig_nbformat": 4
 },
 "nbformat": 4,
 "nbformat_minor": 2
}
